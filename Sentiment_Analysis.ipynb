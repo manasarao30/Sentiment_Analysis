{
 "cells": [
  {
   "cell_type": "markdown",
   "metadata": {},
   "source": [
    "# Step 1: Importing Required Libreries"
   ]
  },
  {
   "cell_type": "code",
   "execution_count": 1,
   "metadata": {},
   "outputs": [],
   "source": [
    "import pandas as pd\n",
    "import numpy as np\n",
    "import nltk"
   ]
  },
  {
   "cell_type": "markdown",
   "metadata": {},
   "source": [
    "# Step 2: Load The Dataset"
   ]
  },
  {
   "cell_type": "code",
   "execution_count": 2,
   "metadata": {},
   "outputs": [],
   "source": [
    "df = pd.read_csv(\"FINAL_DATASET.csv\")"
   ]
  },
  {
   "cell_type": "markdown",
   "metadata": {},
   "source": [
    "# Step 3: Validating The Dataset"
   ]
  },
  {
   "cell_type": "markdown",
   "metadata": {},
   "source": [
    "Reading First 5 Records"
   ]
  },
  {
   "cell_type": "code",
   "execution_count": 3,
   "metadata": {},
   "outputs": [
    {
     "data": {
      "text/html": [
       "<div>\n",
       "<style scoped>\n",
       "    .dataframe tbody tr th:only-of-type {\n",
       "        vertical-align: middle;\n",
       "    }\n",
       "\n",
       "    .dataframe tbody tr th {\n",
       "        vertical-align: top;\n",
       "    }\n",
       "\n",
       "    .dataframe thead th {\n",
       "        text-align: right;\n",
       "    }\n",
       "</style>\n",
       "<table border=\"1\" class=\"dataframe\">\n",
       "  <thead>\n",
       "    <tr style=\"text-align: right;\">\n",
       "      <th></th>\n",
       "      <th>AMAZON_TEXT_REVIEWS</th>\n",
       "      <th>CATAGORIES</th>\n",
       "    </tr>\n",
       "  </thead>\n",
       "  <tbody>\n",
       "    <tr>\n",
       "      <th>0</th>\n",
       "      <td>I order 3 of them and one of the item is bad q...</td>\n",
       "      <td>Amazon Electronics Products</td>\n",
       "    </tr>\n",
       "    <tr>\n",
       "      <th>1</th>\n",
       "      <td>Bulk is always the less expensive way to go fo...</td>\n",
       "      <td>Amazon Electronics Products</td>\n",
       "    </tr>\n",
       "    <tr>\n",
       "      <th>2</th>\n",
       "      <td>Well they are not Duracell but for the price i...</td>\n",
       "      <td>Amazon Electronics Products</td>\n",
       "    </tr>\n",
       "    <tr>\n",
       "      <th>3</th>\n",
       "      <td>Seem to work as well as name brand batteries a...</td>\n",
       "      <td>Amazon Electronics Products</td>\n",
       "    </tr>\n",
       "    <tr>\n",
       "      <th>4</th>\n",
       "      <td>These batteries are very long lasting the pric...</td>\n",
       "      <td>Amazon Electronics Products</td>\n",
       "    </tr>\n",
       "  </tbody>\n",
       "</table>\n",
       "</div>"
      ],
      "text/plain": [
       "                                 AMAZON_TEXT_REVIEWS  \\\n",
       "0  I order 3 of them and one of the item is bad q...   \n",
       "1  Bulk is always the less expensive way to go fo...   \n",
       "2  Well they are not Duracell but for the price i...   \n",
       "3  Seem to work as well as name brand batteries a...   \n",
       "4  These batteries are very long lasting the pric...   \n",
       "\n",
       "                    CATAGORIES  \n",
       "0  Amazon Electronics Products  \n",
       "1  Amazon Electronics Products  \n",
       "2  Amazon Electronics Products  \n",
       "3  Amazon Electronics Products  \n",
       "4  Amazon Electronics Products  "
      ]
     },
     "execution_count": 3,
     "metadata": {},
     "output_type": "execute_result"
    }
   ],
   "source": [
    "df.head()"
   ]
  },
  {
   "cell_type": "markdown",
   "metadata": {},
   "source": [
    "Reading Last 5 Records"
   ]
  },
  {
   "cell_type": "code",
   "execution_count": 4,
   "metadata": {},
   "outputs": [
    {
     "data": {
      "text/html": [
       "<div>\n",
       "<style scoped>\n",
       "    .dataframe tbody tr th:only-of-type {\n",
       "        vertical-align: middle;\n",
       "    }\n",
       "\n",
       "    .dataframe tbody tr th {\n",
       "        vertical-align: top;\n",
       "    }\n",
       "\n",
       "    .dataframe thead th {\n",
       "        text-align: right;\n",
       "    }\n",
       "</style>\n",
       "<table border=\"1\" class=\"dataframe\">\n",
       "  <thead>\n",
       "    <tr style=\"text-align: right;\">\n",
       "      <th></th>\n",
       "      <th>AMAZON_TEXT_REVIEWS</th>\n",
       "      <th>CATAGORIES</th>\n",
       "    </tr>\n",
       "  </thead>\n",
       "  <tbody>\n",
       "    <tr>\n",
       "      <th>76534</th>\n",
       "      <td>Am disabled, retired RN, but always wished I w...</td>\n",
       "      <td>Data Science Book</td>\n",
       "    </tr>\n",
       "    <tr>\n",
       "      <th>76535</th>\n",
       "      <td>At one point I considered library work as oppo...</td>\n",
       "      <td>Data Science Book</td>\n",
       "    </tr>\n",
       "    <tr>\n",
       "      <th>76536</th>\n",
       "      <td>Overall, I think this is an excellent resource...</td>\n",
       "      <td>Data Science Book</td>\n",
       "    </tr>\n",
       "    <tr>\n",
       "      <th>76537</th>\n",
       "      <td>GREAT</td>\n",
       "      <td>Data Science Book</td>\n",
       "    </tr>\n",
       "    <tr>\n",
       "      <th>76538</th>\n",
       "      <td>Execellent info!</td>\n",
       "      <td>Data Science Book</td>\n",
       "    </tr>\n",
       "  </tbody>\n",
       "</table>\n",
       "</div>"
      ],
      "text/plain": [
       "                                     AMAZON_TEXT_REVIEWS         CATAGORIES\n",
       "76534  Am disabled, retired RN, but always wished I w...  Data Science Book\n",
       "76535  At one point I considered library work as oppo...  Data Science Book\n",
       "76536  Overall, I think this is an excellent resource...  Data Science Book\n",
       "76537                                              GREAT  Data Science Book\n",
       "76538                                   Execellent info!  Data Science Book"
      ]
     },
     "execution_count": 4,
     "metadata": {},
     "output_type": "execute_result"
    }
   ],
   "source": [
    "df.tail()"
   ]
  },
  {
   "cell_type": "markdown",
   "metadata": {},
   "source": [
    "Size of Dataset"
   ]
  },
  {
   "cell_type": "markdown",
   "metadata": {},
   "source": [
    "below code gives No of Rows and Coloumns in our dataset : Rows-->76539 and cloumns-->2"
   ]
  },
  {
   "cell_type": "code",
   "execution_count": 5,
   "metadata": {},
   "outputs": [
    {
     "data": {
      "text/plain": [
       "(76539, 2)"
      ]
     },
     "execution_count": 5,
     "metadata": {},
     "output_type": "execute_result"
    }
   ],
   "source": [
    "df.shape"
   ]
  },
  {
   "cell_type": "markdown",
   "metadata": {},
   "source": [
    "Checking Info Of the Dataset"
   ]
  },
  {
   "cell_type": "code",
   "execution_count": 6,
   "metadata": {},
   "outputs": [
    {
     "name": "stdout",
     "output_type": "stream",
     "text": [
      "<class 'pandas.core.frame.DataFrame'>\n",
      "RangeIndex: 76539 entries, 0 to 76538\n",
      "Data columns (total 2 columns):\n",
      " #   Column               Non-Null Count  Dtype \n",
      "---  ------               --------------  ----- \n",
      " 0   AMAZON_TEXT_REVIEWS  76539 non-null  object\n",
      " 1   CATAGORIES           76539 non-null  object\n",
      "dtypes: object(2)\n",
      "memory usage: 1.2+ MB\n"
     ]
    }
   ],
   "source": [
    "df.info()"
   ]
  },
  {
   "cell_type": "markdown",
   "metadata": {},
   "source": [
    "Checking For NULL Values "
   ]
  },
  {
   "cell_type": "code",
   "execution_count": 7,
   "metadata": {},
   "outputs": [
    {
     "name": "stdout",
     "output_type": "stream",
     "text": [
      "AMAZON_TEXT_REVIEWS    0\n",
      "CATAGORIES             0\n",
      "dtype: int64\n"
     ]
    }
   ],
   "source": [
    "print(df.isnull().sum())"
   ]
  },
  {
   "cell_type": "markdown",
   "metadata": {},
   "source": [
    "Since There is No Null Values Found in Our Dataset"
   ]
  },
  {
   "cell_type": "markdown",
   "metadata": {},
   "source": [
    "# Step 4: Representing Dataset Through Bar Graph"
   ]
  },
  {
   "cell_type": "code",
   "execution_count": 8,
   "metadata": {},
   "outputs": [
    {
     "data": {
      "text/plain": [
       "<matplotlib.axes._subplots.AxesSubplot at 0x1c8fe2c1948>"
      ]
     },
     "execution_count": 8,
     "metadata": {},
     "output_type": "execute_result"
    },
    {
     "data": {
      "image/png": "[encoded data removed]",
      "text/plain": [
       "<Figure size 432x288 with 1 Axes>"
      ]
     },
     "metadata": {
      "needs_background": "light"
     },
     "output_type": "display_data"
    }
   ],
   "source": [
    "# plotting Bar graph for CATAGORIES\n",
    "df[\"CATAGORIES\"].value_counts().sort_values().plot.bar()"
   ]
  },
  {
   "cell_type": "markdown",
   "metadata": {},
   "source": [
    "# Plot distribution of review length"
   ]
  },
  {
   "cell_type": "code",
   "execution_count": 9,
   "metadata": {},
   "outputs": [
    {
     "data": {
      "text/plain": [
       "Text(0, 0.5, 'Count')"
      ]
     },
     "execution_count": 9,
     "metadata": {},
     "output_type": "execute_result"
    },
    {
     "data": {
      "image/png": "[encoded data removed]",
      "text/plain": [
       "<Figure size 864x576 with 1 Axes>"
      ]
     },
     "metadata": {
      "needs_background": "light"
     },
     "output_type": "display_data"
    }
   ],
   "source": [
    "# Plot distribution of review length\n",
    "import matplotlib.pyplot as plt\n",
    "review_length = df[\"AMAZON_TEXT_REVIEWS\"].dropna().map(lambda x: len(x))\n",
    "plt.figure(figsize=(12,8))\n",
    "review_length.loc[review_length < 1500].hist()\n",
    "plt.title(\"Distribution of Review Length\")\n",
    "plt.xlabel('Review length (Number of character)')\n",
    "plt.ylabel('Count')"
   ]
  },
  {
   "cell_type": "markdown",
   "metadata": {},
   "source": [
    "# Step 5:  Data Pre-Processing"
   ]
  },
  {
   "cell_type": "markdown",
   "metadata": {},
   "source": [
    "####   DATA NORMALIZATION\n",
    "   \n",
    "1. Converting Emojis to their Respective Emotions\n",
    "2. Removing all Punctuations in the Reviews\n",
    "3. Removing StopWords\n",
    "4. Tokenize the Data\n",
    "5. Stemming\n",
    "6. Lemmatization"
   ]
  },
  {
   "cell_type": "markdown",
   "metadata": {},
   "source": [
    "### 1. Converting Emojis to their Respective Emotions"
   ]
  },
  {
   "cell_type": "code",
   "execution_count": 4,
   "metadata": {},
   "outputs": [],
   "source": [
    "df[\"AMAZON_TEXT_REVIEWS\"] = df[\"AMAZON_TEXT_REVIEWS\"].replace([\"\\:\\)\", \"\\:\\-\\)\", \"\\:\\-\\}\", \"\\;\\-\\}\", \"\\:\\-\\>\", \"\\;\\-\\)\"], [\"Happy\",\"Happy\",\"Happy\",\"Happy\",\"Happy\",\"Happy\"], regex=True)\n",
    "df[\"AMAZON_TEXT_REVIEWS\"] = df[\"AMAZON_TEXT_REVIEWS\"].replace([\"\\:\\-\\(\", \"\\:\\(\", \"\\:\\-\\|\", \"\\;\\-\\(\", \"\\;\\-\\<\", \"\\|\\-\\{\"], [\"Sad\", \"Sad\", \"Sad\", \"Sad\", \"Sad\", \"Sad\",], regex=True)\n",
    "df[\"AMAZON_TEXT_REVIEWS\"] = df[\"AMAZON_TEXT_REVIEWS\"].replace([\"\\:\\D\", \"\\:\\'\\-\\)\", \"\\:\\`\\-\\(\"], [\"laugh\", \"tear of joy\", \"tear of sadness\"], regex=True)"
   ]
  },
  {
   "cell_type": "markdown",
   "metadata": {},
   "source": [
    "### 2. Removing all punctuations in the Reviews"
   ]
  },
  {
   "cell_type": "code",
   "execution_count": 11,
   "metadata": {},
   "outputs": [
    {
     "name": "stdout",
     "output_type": "stream",
     "text": [
      "32\n",
      "32\n"
     ]
    }
   ],
   "source": [
    "import string\n",
    "exclude = set(string.punctuation)\n",
    "final = exclude\n",
    "\n",
    "print(len(exclude))\n",
    "print(len(final))"
   ]
  },
  {
   "cell_type": "code",
   "execution_count": 12,
   "metadata": {},
   "outputs": [
    {
     "name": "stdout",
     "output_type": "stream",
     "text": [
      "{';', '{', '\\\\', '/', '`', '+', '_', '$', '>', '&', '%', ']', ')', '-', '@', '\"', '?', '^', '}', '(', '!', '[', \"'\", '*', '<', '.', '|', '#', ':', '~', '=', ','}\n"
     ]
    }
   ],
   "source": [
    "print(final)"
   ]
  },
  {
   "cell_type": "code",
   "execution_count": 13,
   "metadata": {},
   "outputs": [],
   "source": [
    "for i in final:\n",
    "  df['AMAZON_TEXT_REVIEWS'] = df['AMAZON_TEXT_REVIEWS'].str.replace(i, ' ', regex=True)"
   ]
  },
  {
   "cell_type": "code",
   "execution_count": 14,
   "metadata": {},
   "outputs": [
    {
     "data": {
      "text/html": [
       "<div>\n",
       "<style scoped>\n",
       "    .dataframe tbody tr th:only-of-type {\n",
       "        vertical-align: middle;\n",
       "    }\n",
       "\n",
       "    .dataframe tbody tr th {\n",
       "        vertical-align: top;\n",
       "    }\n",
       "\n",
       "    .dataframe thead th {\n",
       "        text-align: right;\n",
       "    }\n",
       "</style>\n",
       "<table border=\"1\" class=\"dataframe\">\n",
       "  <thead>\n",
       "    <tr style=\"text-align: right;\">\n",
       "      <th></th>\n",
       "      <th>AMAZON_TEXT_REVIEWS</th>\n",
       "      <th>CATAGORIES</th>\n",
       "    </tr>\n",
       "  </thead>\n",
       "  <tbody>\n",
       "    <tr>\n",
       "      <th>76534</th>\n",
       "      <td>Am disabled  retired RN  but always wished I w...</td>\n",
       "      <td>Data Science Book</td>\n",
       "    </tr>\n",
       "    <tr>\n",
       "      <th>76535</th>\n",
       "      <td>At one point I considered library work as oppo...</td>\n",
       "      <td>Data Science Book</td>\n",
       "    </tr>\n",
       "    <tr>\n",
       "      <th>76536</th>\n",
       "      <td>Overall  I think this is an excellent resource...</td>\n",
       "      <td>Data Science Book</td>\n",
       "    </tr>\n",
       "    <tr>\n",
       "      <th>76537</th>\n",
       "      <td>GREAT</td>\n",
       "      <td>Data Science Book</td>\n",
       "    </tr>\n",
       "    <tr>\n",
       "      <th>76538</th>\n",
       "      <td>Execellent info</td>\n",
       "      <td>Data Science Book</td>\n",
       "    </tr>\n",
       "  </tbody>\n",
       "</table>\n",
       "</div>"
      ],
      "text/plain": [
       "                                     AMAZON_TEXT_REVIEWS         CATAGORIES\n",
       "76534  Am disabled  retired RN  but always wished I w...  Data Science Book\n",
       "76535  At one point I considered library work as oppo...  Data Science Book\n",
       "76536  Overall  I think this is an excellent resource...  Data Science Book\n",
       "76537                                              GREAT  Data Science Book\n",
       "76538                                   Execellent info   Data Science Book"
      ]
     },
     "execution_count": 14,
     "metadata": {},
     "output_type": "execute_result"
    }
   ],
   "source": [
    "df.tail()"
   ]
  },
  {
   "cell_type": "code",
   "execution_count": 15,
   "metadata": {},
   "outputs": [],
   "source": [
    "#In last row of the above Record ,in the text Excellent info (!)-->Exclamatory has been removed(Check in the step3 of df.tail())"
   ]
  },
  {
   "cell_type": "code",
   "execution_count": 16,
   "metadata": {},
   "outputs": [
    {
     "data": {
      "text/plain": [
       "0        I order 3 of them and one of the item is bad q...\n",
       "1        Bulk is always the less expensive way to go fo...\n",
       "2        Well they are not Duracell but for the price i...\n",
       "3        Seem to work as well as name brand batteries a...\n",
       "4        These batteries are very long lasting the pric...\n",
       "                               ...                        \n",
       "76534    Am disabled  retired RN  but always wished I w...\n",
       "76535    At one point I considered library work as oppo...\n",
       "76536    Overall  I think this is an excellent resource...\n",
       "76537                                                GREAT\n",
       "76538                                     Execellent info \n",
       "Name: AMAZON_TEXT_REVIEWS, Length: 76539, dtype: object"
      ]
     },
     "execution_count": 16,
     "metadata": {},
     "output_type": "execute_result"
    }
   ],
   "source": [
    "#Output after Removing Punctuation\n",
    "df[\"AMAZON_TEXT_REVIEWS\"]"
   ]
  },
  {
   "cell_type": "markdown",
   "metadata": {},
   "source": [
    "## POS Tags"
   ]
  },
  {
   "cell_type": "code",
   "execution_count": 5,
   "metadata": {},
   "outputs": [],
   "source": [
    "# return the wordnet object value corresponding to the POS tag\n",
    "from nltk.corpus import wordnet\n",
    "\n",
    "def get_wordnet_pos(pos_tag):\n",
    "    if pos_tag.startswith('J'):\n",
    "        return wordnet.ADJ\n",
    "    elif pos_tag.startswith('V'):\n",
    "        return wordnet.VERB\n",
    "    elif pos_tag.startswith('N'):\n",
    "        return wordnet.NOUN\n",
    "    elif pos_tag.startswith('R'):\n",
    "        return wordnet.ADV\n",
    "    else:\n",
    "        return wordnet.NOUN\n",
    "    \n",
    "import string\n",
    "from nltk import pos_tag\n",
    "from nltk.corpus import stopwords\n",
    "from nltk.tokenize import WhitespaceTokenizer\n",
    "from nltk.stem import WordNetLemmatizer\n",
    "\n",
    "def clean_text(text):\n",
    "    # lower text\n",
    "    text = text.lower()\n",
    "    # tokenize text and remove puncutation\n",
    "    text = [word.strip(string.punctuation) for word in text.split(\" \")]\n",
    "    # remove words that contain numbers\n",
    "    text = [word for word in text if not any(c.isdigit() for c in word)]\n",
    "    # remove stop words\n",
    "    stop = stopwords.words('english')\n",
    "    text = [x for x in text if x not in stop]\n",
    "    # remove empty tokens\n",
    "    text = [t for t in text if len(t) > 0]\n",
    "    # pos tag text\n",
    "    pos_tags = pos_tag(text)\n",
    "    # lemmatize text\n",
    "    text = [WordNetLemmatizer().lemmatize(t[0], get_wordnet_pos(t[1])) for t in pos_tags]\n",
    "    # remove words with only one letter\n",
    "    text = [t for t in text if len(t) > 1]\n",
    "    # join all\n",
    "    text = \" \".join(text)\n",
    "    return(text)\n",
    "\n",
    "# clean text data\n",
    "df[\"StopWReviews\"] = df[\"AMAZON_TEXT_REVIEWS\"].apply(lambda x: clean_text(x))"
   ]
  },
  {
   "cell_type": "code",
   "execution_count": 6,
   "metadata": {},
   "outputs": [
    {
     "data": {
      "text/html": [
       "<div>\n",
       "<style scoped>\n",
       "    .dataframe tbody tr th:only-of-type {\n",
       "        vertical-align: middle;\n",
       "    }\n",
       "\n",
       "    .dataframe tbody tr th {\n",
       "        vertical-align: top;\n",
       "    }\n",
       "\n",
       "    .dataframe thead th {\n",
       "        text-align: right;\n",
       "    }\n",
       "</style>\n",
       "<table border=\"1\" class=\"dataframe\">\n",
       "  <thead>\n",
       "    <tr style=\"text-align: right;\">\n",
       "      <th></th>\n",
       "      <th>AMAZON_TEXT_REVIEWS</th>\n",
       "      <th>CATAGORIES</th>\n",
       "      <th>StopWReviews</th>\n",
       "    </tr>\n",
       "  </thead>\n",
       "  <tbody>\n",
       "    <tr>\n",
       "      <th>0</th>\n",
       "      <td>I order 3 of them and one of the item is bad q...</td>\n",
       "      <td>Amazon Electronics Products</td>\n",
       "      <td>order one item bad quality miss backup spring ...</td>\n",
       "    </tr>\n",
       "    <tr>\n",
       "      <th>1</th>\n",
       "      <td>Bulk is always the less expensive way to go fo...</td>\n",
       "      <td>Amazon Electronics Products</td>\n",
       "      <td>bulk always less expensive way go product like</td>\n",
       "    </tr>\n",
       "    <tr>\n",
       "      <th>2</th>\n",
       "      <td>Well they are not Duracell but for the price i...</td>\n",
       "      <td>Amazon Electronics Products</td>\n",
       "      <td>well duracell price happy</td>\n",
       "    </tr>\n",
       "    <tr>\n",
       "      <th>3</th>\n",
       "      <td>Seem to work as well as name brand batteries a...</td>\n",
       "      <td>Amazon Electronics Products</td>\n",
       "      <td>seem work well name brand battery much good price</td>\n",
       "    </tr>\n",
       "    <tr>\n",
       "      <th>4</th>\n",
       "      <td>These batteries are very long lasting the pric...</td>\n",
       "      <td>Amazon Electronics Products</td>\n",
       "      <td>battery long lasting price great</td>\n",
       "    </tr>\n",
       "  </tbody>\n",
       "</table>\n",
       "</div>"
      ],
      "text/plain": [
       "                                 AMAZON_TEXT_REVIEWS  \\\n",
       "0  I order 3 of them and one of the item is bad q...   \n",
       "1  Bulk is always the less expensive way to go fo...   \n",
       "2  Well they are not Duracell but for the price i...   \n",
       "3  Seem to work as well as name brand batteries a...   \n",
       "4  These batteries are very long lasting the pric...   \n",
       "\n",
       "                    CATAGORIES  \\\n",
       "0  Amazon Electronics Products   \n",
       "1  Amazon Electronics Products   \n",
       "2  Amazon Electronics Products   \n",
       "3  Amazon Electronics Products   \n",
       "4  Amazon Electronics Products   \n",
       "\n",
       "                                        StopWReviews  \n",
       "0  order one item bad quality miss backup spring ...  \n",
       "1     bulk always less expensive way go product like  \n",
       "2                          well duracell price happy  \n",
       "3  seem work well name brand battery much good price  \n",
       "4                   battery long lasting price great  "
      ]
     },
     "execution_count": 6,
     "metadata": {},
     "output_type": "execute_result"
    }
   ],
   "source": [
    "df.head()"
   ]
  },
  {
   "cell_type": "code",
   "execution_count": 7,
   "metadata": {},
   "outputs": [],
   "source": [
    "df['CleanedText']=df['StopWReviews']"
   ]
  },
  {
   "cell_type": "code",
   "execution_count": 20,
   "metadata": {},
   "outputs": [
    {
     "data": {
      "text/html": [
       "<div>\n",
       "<style scoped>\n",
       "    .dataframe tbody tr th:only-of-type {\n",
       "        vertical-align: middle;\n",
       "    }\n",
       "\n",
       "    .dataframe tbody tr th {\n",
       "        vertical-align: top;\n",
       "    }\n",
       "\n",
       "    .dataframe thead th {\n",
       "        text-align: right;\n",
       "    }\n",
       "</style>\n",
       "<table border=\"1\" class=\"dataframe\">\n",
       "  <thead>\n",
       "    <tr style=\"text-align: right;\">\n",
       "      <th></th>\n",
       "      <th>AMAZON_TEXT_REVIEWS</th>\n",
       "      <th>CATAGORIES</th>\n",
       "      <th>StopWReviews</th>\n",
       "      <th>CleanedText</th>\n",
       "    </tr>\n",
       "  </thead>\n",
       "  <tbody>\n",
       "    <tr>\n",
       "      <th>0</th>\n",
       "      <td>I order 3 of them and one of the item is bad q...</td>\n",
       "      <td>Amazon Electronics Products</td>\n",
       "      <td>order one item bad quality miss backup spring ...</td>\n",
       "      <td>order one item bad quality miss backup spring ...</td>\n",
       "    </tr>\n",
       "    <tr>\n",
       "      <th>1</th>\n",
       "      <td>Bulk is always the less expensive way to go fo...</td>\n",
       "      <td>Amazon Electronics Products</td>\n",
       "      <td>bulk always less expensive way go product like</td>\n",
       "      <td>bulk always less expensive way go product like</td>\n",
       "    </tr>\n",
       "    <tr>\n",
       "      <th>2</th>\n",
       "      <td>Well they are not Duracell but for the price i...</td>\n",
       "      <td>Amazon Electronics Products</td>\n",
       "      <td>well duracell price happy</td>\n",
       "      <td>well duracell price happy</td>\n",
       "    </tr>\n",
       "    <tr>\n",
       "      <th>3</th>\n",
       "      <td>Seem to work as well as name brand batteries a...</td>\n",
       "      <td>Amazon Electronics Products</td>\n",
       "      <td>seem work well name brand battery much good price</td>\n",
       "      <td>seem work well name brand battery much good price</td>\n",
       "    </tr>\n",
       "    <tr>\n",
       "      <th>4</th>\n",
       "      <td>These batteries are very long lasting the pric...</td>\n",
       "      <td>Amazon Electronics Products</td>\n",
       "      <td>battery long lasting price great</td>\n",
       "      <td>battery long lasting price great</td>\n",
       "    </tr>\n",
       "  </tbody>\n",
       "</table>\n",
       "</div>"
      ],
      "text/plain": [
       "                                 AMAZON_TEXT_REVIEWS  \\\n",
       "0  I order 3 of them and one of the item is bad q...   \n",
       "1  Bulk is always the less expensive way to go fo...   \n",
       "2  Well they are not Duracell but for the price i...   \n",
       "3  Seem to work as well as name brand batteries a...   \n",
       "4  These batteries are very long lasting the pric...   \n",
       "\n",
       "                    CATAGORIES  \\\n",
       "0  Amazon Electronics Products   \n",
       "1  Amazon Electronics Products   \n",
       "2  Amazon Electronics Products   \n",
       "3  Amazon Electronics Products   \n",
       "4  Amazon Electronics Products   \n",
       "\n",
       "                                        StopWReviews  \\\n",
       "0  order one item bad quality miss backup spring ...   \n",
       "1     bulk always less expensive way go product like   \n",
       "2                          well duracell price happy   \n",
       "3  seem work well name brand battery much good price   \n",
       "4                   battery long lasting price great   \n",
       "\n",
       "                                         CleanedText  \n",
       "0  order one item bad quality miss backup spring ...  \n",
       "1     bulk always less expensive way go product like  \n",
       "2                          well duracell price happy  \n",
       "3  seem work well name brand battery much good price  \n",
       "4                   battery long lasting price great  "
      ]
     },
     "execution_count": 20,
     "metadata": {},
     "output_type": "execute_result"
    }
   ],
   "source": [
    "df.head()"
   ]
  },
  {
   "cell_type": "markdown",
   "metadata": {},
   "source": [
    "### Load TextBlob"
   ]
  },
  {
   "cell_type": "code",
   "execution_count": 8,
   "metadata": {},
   "outputs": [
    {
     "data": {
      "text/html": [
       "<div>\n",
       "<style scoped>\n",
       "    .dataframe tbody tr th:only-of-type {\n",
       "        vertical-align: middle;\n",
       "    }\n",
       "\n",
       "    .dataframe tbody tr th {\n",
       "        vertical-align: top;\n",
       "    }\n",
       "\n",
       "    .dataframe thead th {\n",
       "        text-align: right;\n",
       "    }\n",
       "</style>\n",
       "<table border=\"1\" class=\"dataframe\">\n",
       "  <thead>\n",
       "    <tr style=\"text-align: right;\">\n",
       "      <th></th>\n",
       "      <th>AMAZON_TEXT_REVIEWS</th>\n",
       "      <th>CATAGORIES</th>\n",
       "      <th>StopWReviews</th>\n",
       "      <th>CleanedText</th>\n",
       "      <th>tb_Pol</th>\n",
       "      <th>tb_Subj</th>\n",
       "    </tr>\n",
       "  </thead>\n",
       "  <tbody>\n",
       "    <tr>\n",
       "      <th>0</th>\n",
       "      <td>I order 3 of them and one of the item is bad q...</td>\n",
       "      <td>Amazon Electronics Products</td>\n",
       "      <td>order one item bad quality miss backup spring ...</td>\n",
       "      <td>order one item bad quality miss backup spring ...</td>\n",
       "      <td>-0.700000</td>\n",
       "      <td>0.666667</td>\n",
       "    </tr>\n",
       "    <tr>\n",
       "      <th>1</th>\n",
       "      <td>Bulk is always the less expensive way to go fo...</td>\n",
       "      <td>Amazon Electronics Products</td>\n",
       "      <td>bulk always less expensive way go product like</td>\n",
       "      <td>bulk always less expensive way go product like</td>\n",
       "      <td>-0.333333</td>\n",
       "      <td>0.383333</td>\n",
       "    </tr>\n",
       "    <tr>\n",
       "      <th>2</th>\n",
       "      <td>Well they are not Duracell but for the price i...</td>\n",
       "      <td>Amazon Electronics Products</td>\n",
       "      <td>well duracell price happy</td>\n",
       "      <td>well duracell price happy</td>\n",
       "      <td>0.800000</td>\n",
       "      <td>1.000000</td>\n",
       "    </tr>\n",
       "  </tbody>\n",
       "</table>\n",
       "</div>"
      ],
      "text/plain": [
       "                                 AMAZON_TEXT_REVIEWS  \\\n",
       "0  I order 3 of them and one of the item is bad q...   \n",
       "1  Bulk is always the less expensive way to go fo...   \n",
       "2  Well they are not Duracell but for the price i...   \n",
       "\n",
       "                    CATAGORIES  \\\n",
       "0  Amazon Electronics Products   \n",
       "1  Amazon Electronics Products   \n",
       "2  Amazon Electronics Products   \n",
       "\n",
       "                                        StopWReviews  \\\n",
       "0  order one item bad quality miss backup spring ...   \n",
       "1     bulk always less expensive way go product like   \n",
       "2                          well duracell price happy   \n",
       "\n",
       "                                         CleanedText    tb_Pol   tb_Subj  \n",
       "0  order one item bad quality miss backup spring ... -0.700000  0.666667  \n",
       "1     bulk always less expensive way go product like -0.333333  0.383333  \n",
       "2                          well duracell price happy  0.800000  1.000000  "
      ]
     },
     "execution_count": 8,
     "metadata": {},
     "output_type": "execute_result"
    }
   ],
   "source": [
    "from textblob import TextBlob\n",
    "#load the descriptions into textblob\n",
    "desc_blob = [TextBlob(desc) for desc in df['CleanedText']]\n",
    "#add the sentiment metrics to the dataframe\n",
    "df['tb_Pol'] = [b.sentiment.polarity for b in desc_blob]\n",
    "df['tb_Subj'] = [b.sentiment.subjectivity for b in desc_blob]\n",
    "#show dataframe\n",
    "df.head(3)"
   ]
  },
  {
   "cell_type": "markdown",
   "metadata": {},
   "source": [
    "### Load VADER"
   ]
  },
  {
   "cell_type": "code",
   "execution_count": 9,
   "metadata": {},
   "outputs": [
    {
     "name": "stdout",
     "output_type": "stream",
     "text": [
      "Requirement already satisfied: vaderSentiment in c:\\users\\avinash\\anaconda3\\lib\\site-packages (3.3.2)Note: you may need to restart the kernel to use updated packages.\n",
      "Requirement already satisfied: requests in c:\\users\\avinash\\anaconda3\\lib\\site-packages (from vaderSentiment) (2.24.0)\n",
      "Requirement already satisfied: certifi>=2017.4.17 in c:\\users\\avinash\\anaconda3\\lib\\site-packages (from requests->vaderSentiment) (2020.6.20)\n",
      "Requirement already satisfied: idna<3,>=2.5 in c:\\users\\avinash\\anaconda3\\lib\\site-packages (from requests->vaderSentiment) (2.10)\n",
      "Requirement already satisfied: chardet<4,>=3.0.2 in c:\\users\\avinash\\anaconda3\\lib\\site-packages (from requests->vaderSentiment) (3.0.4)\n",
      "Requirement already satisfied: urllib3!=1.25.0,!=1.25.1,<1.26,>=1.21.1 in c:\\users\\avinash\\anaconda3\\lib\\site-packages (from requests->vaderSentiment) (1.25.11)\n",
      "\n"
     ]
    }
   ],
   "source": [
    "pip install vaderSentiment"
   ]
  },
  {
   "cell_type": "code",
   "execution_count": 23,
   "metadata": {},
   "outputs": [
    {
     "data": {
      "text/html": [
       "<div>\n",
       "<style scoped>\n",
       "    .dataframe tbody tr th:only-of-type {\n",
       "        vertical-align: middle;\n",
       "    }\n",
       "\n",
       "    .dataframe tbody tr th {\n",
       "        vertical-align: top;\n",
       "    }\n",
       "\n",
       "    .dataframe thead th {\n",
       "        text-align: right;\n",
       "    }\n",
       "</style>\n",
       "<table border=\"1\" class=\"dataframe\">\n",
       "  <thead>\n",
       "    <tr style=\"text-align: right;\">\n",
       "      <th></th>\n",
       "      <th>AMAZON_TEXT_REVIEWS</th>\n",
       "      <th>CATAGORIES</th>\n",
       "      <th>StopWReviews</th>\n",
       "      <th>CleanedText</th>\n",
       "      <th>tb_Pol</th>\n",
       "      <th>tb_Subj</th>\n",
       "    </tr>\n",
       "  </thead>\n",
       "  <tbody>\n",
       "    <tr>\n",
       "      <th>76534</th>\n",
       "      <td>Am disabled  retired RN  but always wished I w...</td>\n",
       "      <td>Data Science Book</td>\n",
       "      <td>disabled retire rn always wish librarian happy...</td>\n",
       "      <td>disabled retire rn always wish librarian happy...</td>\n",
       "      <td>0.466667</td>\n",
       "      <td>0.766667</td>\n",
       "    </tr>\n",
       "    <tr>\n",
       "      <th>76535</th>\n",
       "      <td>At one point I considered library work as oppo...</td>\n",
       "      <td>Data Science Book</td>\n",
       "      <td>one point consider library work oppose work li...</td>\n",
       "      <td>one point consider library work oppose work li...</td>\n",
       "      <td>0.275000</td>\n",
       "      <td>0.616667</td>\n",
       "    </tr>\n",
       "    <tr>\n",
       "      <th>76536</th>\n",
       "      <td>Overall  I think this is an excellent resource...</td>\n",
       "      <td>Data Science Book</td>\n",
       "      <td>overall think excellent resource anyone pursue...</td>\n",
       "      <td>overall think excellent resource anyone pursue...</td>\n",
       "      <td>0.488889</td>\n",
       "      <td>0.568519</td>\n",
       "    </tr>\n",
       "    <tr>\n",
       "      <th>76537</th>\n",
       "      <td>GREAT</td>\n",
       "      <td>Data Science Book</td>\n",
       "      <td>great</td>\n",
       "      <td>great</td>\n",
       "      <td>0.800000</td>\n",
       "      <td>0.750000</td>\n",
       "    </tr>\n",
       "    <tr>\n",
       "      <th>76538</th>\n",
       "      <td>Execellent info</td>\n",
       "      <td>Data Science Book</td>\n",
       "      <td>execellent info</td>\n",
       "      <td>execellent info</td>\n",
       "      <td>0.000000</td>\n",
       "      <td>0.000000</td>\n",
       "    </tr>\n",
       "  </tbody>\n",
       "</table>\n",
       "</div>"
      ],
      "text/plain": [
       "                                     AMAZON_TEXT_REVIEWS         CATAGORIES  \\\n",
       "76534  Am disabled  retired RN  but always wished I w...  Data Science Book   \n",
       "76535  At one point I considered library work as oppo...  Data Science Book   \n",
       "76536  Overall  I think this is an excellent resource...  Data Science Book   \n",
       "76537                                              GREAT  Data Science Book   \n",
       "76538                                   Execellent info   Data Science Book   \n",
       "\n",
       "                                            StopWReviews  \\\n",
       "76534  disabled retire rn always wish librarian happy...   \n",
       "76535  one point consider library work oppose work li...   \n",
       "76536  overall think excellent resource anyone pursue...   \n",
       "76537                                              great   \n",
       "76538                                    execellent info   \n",
       "\n",
       "                                             CleanedText    tb_Pol   tb_Subj  \n",
       "76534  disabled retire rn always wish librarian happy...  0.466667  0.766667  \n",
       "76535  one point consider library work oppose work li...  0.275000  0.616667  \n",
       "76536  overall think excellent resource anyone pursue...  0.488889  0.568519  \n",
       "76537                                              great  0.800000  0.750000  \n",
       "76538                                    execellent info  0.000000  0.000000  "
      ]
     },
     "execution_count": 23,
     "metadata": {},
     "output_type": "execute_result"
    }
   ],
   "source": [
    "df.tail()"
   ]
  },
  {
   "cell_type": "code",
   "execution_count": 10,
   "metadata": {},
   "outputs": [
    {
     "data": {
      "text/html": [
       "<div>\n",
       "<style scoped>\n",
       "    .dataframe tbody tr th:only-of-type {\n",
       "        vertical-align: middle;\n",
       "    }\n",
       "\n",
       "    .dataframe tbody tr th {\n",
       "        vertical-align: top;\n",
       "    }\n",
       "\n",
       "    .dataframe thead th {\n",
       "        text-align: right;\n",
       "    }\n",
       "</style>\n",
       "<table border=\"1\" class=\"dataframe\">\n",
       "  <thead>\n",
       "    <tr style=\"text-align: right;\">\n",
       "      <th></th>\n",
       "      <th>AMAZON_TEXT_REVIEWS</th>\n",
       "      <th>CATAGORIES</th>\n",
       "      <th>StopWReviews</th>\n",
       "      <th>CleanedText</th>\n",
       "      <th>tb_Pol</th>\n",
       "      <th>tb_Subj</th>\n",
       "      <th>compound</th>\n",
       "      <th>neg</th>\n",
       "      <th>neu</th>\n",
       "      <th>pos</th>\n",
       "    </tr>\n",
       "  </thead>\n",
       "  <tbody>\n",
       "    <tr>\n",
       "      <th>0</th>\n",
       "      <td>I order 3 of them and one of the item is bad q...</td>\n",
       "      <td>Amazon Electronics Products</td>\n",
       "      <td>order one item bad quality miss backup spring ...</td>\n",
       "      <td>order one item bad quality miss backup spring ...</td>\n",
       "      <td>-0.700000</td>\n",
       "      <td>0.666667</td>\n",
       "      <td>-0.6249</td>\n",
       "      <td>0.298</td>\n",
       "      <td>0.702</td>\n",
       "      <td>0.000</td>\n",
       "    </tr>\n",
       "    <tr>\n",
       "      <th>1</th>\n",
       "      <td>Bulk is always the less expensive way to go fo...</td>\n",
       "      <td>Amazon Electronics Products</td>\n",
       "      <td>bulk always less expensive way go product like</td>\n",
       "      <td>bulk always less expensive way go product like</td>\n",
       "      <td>-0.333333</td>\n",
       "      <td>0.383333</td>\n",
       "      <td>0.3612</td>\n",
       "      <td>0.000</td>\n",
       "      <td>0.737</td>\n",
       "      <td>0.263</td>\n",
       "    </tr>\n",
       "    <tr>\n",
       "      <th>2</th>\n",
       "      <td>Well they are not Duracell but for the price i...</td>\n",
       "      <td>Amazon Electronics Products</td>\n",
       "      <td>well duracell price happy</td>\n",
       "      <td>well duracell price happy</td>\n",
       "      <td>0.800000</td>\n",
       "      <td>1.000000</td>\n",
       "      <td>0.7003</td>\n",
       "      <td>0.000</td>\n",
       "      <td>0.256</td>\n",
       "      <td>0.744</td>\n",
       "    </tr>\n",
       "  </tbody>\n",
       "</table>\n",
       "</div>"
      ],
      "text/plain": [
       "                                 AMAZON_TEXT_REVIEWS  \\\n",
       "0  I order 3 of them and one of the item is bad q...   \n",
       "1  Bulk is always the less expensive way to go fo...   \n",
       "2  Well they are not Duracell but for the price i...   \n",
       "\n",
       "                    CATAGORIES  \\\n",
       "0  Amazon Electronics Products   \n",
       "1  Amazon Electronics Products   \n",
       "2  Amazon Electronics Products   \n",
       "\n",
       "                                        StopWReviews  \\\n",
       "0  order one item bad quality miss backup spring ...   \n",
       "1     bulk always less expensive way go product like   \n",
       "2                          well duracell price happy   \n",
       "\n",
       "                                         CleanedText    tb_Pol   tb_Subj  \\\n",
       "0  order one item bad quality miss backup spring ... -0.700000  0.666667   \n",
       "1     bulk always less expensive way go product like -0.333333  0.383333   \n",
       "2                          well duracell price happy  0.800000  1.000000   \n",
       "\n",
       "   compound    neg    neu    pos  \n",
       "0   -0.6249  0.298  0.702  0.000  \n",
       "1    0.3612  0.000  0.737  0.263  \n",
       "2    0.7003  0.000  0.256  0.744  "
      ]
     },
     "execution_count": 10,
     "metadata": {},
     "output_type": "execute_result"
    }
   ],
   "source": [
    "from vaderSentiment.vaderSentiment import SentimentIntensityAnalyzer\n",
    "analyzer = SentimentIntensityAnalyzer()\n",
    "#Add VADER metrics to dataframe\n",
    "df['compound'] = [analyzer.polarity_scores(v)['compound'] for v in df['CleanedText']]\n",
    "df['neg'] = [analyzer.polarity_scores(v)['neg'] for v in df['CleanedText']]\n",
    "df['neu'] = [analyzer.polarity_scores(v)['neu'] for v in df['CleanedText']]\n",
    "df['pos'] = [analyzer.polarity_scores(v)['pos'] for v in df['CleanedText']]\n",
    "df.head(3)"
   ]
  },
  {
   "cell_type": "code",
   "execution_count": 11,
   "metadata": {},
   "outputs": [
    {
     "data": {
      "text/html": [
       "<div>\n",
       "<style scoped>\n",
       "    .dataframe tbody tr th:only-of-type {\n",
       "        vertical-align: middle;\n",
       "    }\n",
       "\n",
       "    .dataframe tbody tr th {\n",
       "        vertical-align: top;\n",
       "    }\n",
       "\n",
       "    .dataframe thead th {\n",
       "        text-align: right;\n",
       "    }\n",
       "</style>\n",
       "<table border=\"1\" class=\"dataframe\">\n",
       "  <thead>\n",
       "    <tr style=\"text-align: right;\">\n",
       "      <th></th>\n",
       "      <th>AMAZON_TEXT_REVIEWS</th>\n",
       "      <th>CATAGORIES</th>\n",
       "      <th>StopWReviews</th>\n",
       "      <th>CleanedText</th>\n",
       "      <th>tb_Pol</th>\n",
       "      <th>tb_Subj</th>\n",
       "      <th>compound</th>\n",
       "      <th>neg</th>\n",
       "      <th>neu</th>\n",
       "      <th>pos</th>\n",
       "      <th>sentiment</th>\n",
       "      <th>Label</th>\n",
       "    </tr>\n",
       "  </thead>\n",
       "  <tbody>\n",
       "    <tr>\n",
       "      <th>0</th>\n",
       "      <td>I order 3 of them and one of the item is bad q...</td>\n",
       "      <td>Amazon Electronics Products</td>\n",
       "      <td>order one item bad quality miss backup spring ...</td>\n",
       "      <td>order one item bad quality miss backup spring ...</td>\n",
       "      <td>-0.700000</td>\n",
       "      <td>0.666667</td>\n",
       "      <td>-0.6249</td>\n",
       "      <td>0.298</td>\n",
       "      <td>0.702</td>\n",
       "      <td>0.000</td>\n",
       "      <td>-1</td>\n",
       "      <td>neg</td>\n",
       "    </tr>\n",
       "    <tr>\n",
       "      <th>1</th>\n",
       "      <td>Bulk is always the less expensive way to go fo...</td>\n",
       "      <td>Amazon Electronics Products</td>\n",
       "      <td>bulk always less expensive way go product like</td>\n",
       "      <td>bulk always less expensive way go product like</td>\n",
       "      <td>-0.333333</td>\n",
       "      <td>0.383333</td>\n",
       "      <td>0.3612</td>\n",
       "      <td>0.000</td>\n",
       "      <td>0.737</td>\n",
       "      <td>0.263</td>\n",
       "      <td>1</td>\n",
       "      <td>pos</td>\n",
       "    </tr>\n",
       "    <tr>\n",
       "      <th>2</th>\n",
       "      <td>Well they are not Duracell but for the price i...</td>\n",
       "      <td>Amazon Electronics Products</td>\n",
       "      <td>well duracell price happy</td>\n",
       "      <td>well duracell price happy</td>\n",
       "      <td>0.800000</td>\n",
       "      <td>1.000000</td>\n",
       "      <td>0.7003</td>\n",
       "      <td>0.000</td>\n",
       "      <td>0.256</td>\n",
       "      <td>0.744</td>\n",
       "      <td>1</td>\n",
       "      <td>pos</td>\n",
       "    </tr>\n",
       "    <tr>\n",
       "      <th>3</th>\n",
       "      <td>Seem to work as well as name brand batteries a...</td>\n",
       "      <td>Amazon Electronics Products</td>\n",
       "      <td>seem work well name brand battery much good price</td>\n",
       "      <td>seem work well name brand battery much good price</td>\n",
       "      <td>0.700000</td>\n",
       "      <td>0.600000</td>\n",
       "      <td>0.6124</td>\n",
       "      <td>0.000</td>\n",
       "      <td>0.583</td>\n",
       "      <td>0.417</td>\n",
       "      <td>1</td>\n",
       "      <td>pos</td>\n",
       "    </tr>\n",
       "    <tr>\n",
       "      <th>4</th>\n",
       "      <td>These batteries are very long lasting the pric...</td>\n",
       "      <td>Amazon Electronics Products</td>\n",
       "      <td>battery long lasting price great</td>\n",
       "      <td>battery long lasting price great</td>\n",
       "      <td>0.250000</td>\n",
       "      <td>0.383333</td>\n",
       "      <td>0.6249</td>\n",
       "      <td>0.000</td>\n",
       "      <td>0.494</td>\n",
       "      <td>0.506</td>\n",
       "      <td>1</td>\n",
       "      <td>pos</td>\n",
       "    </tr>\n",
       "    <tr>\n",
       "      <th>...</th>\n",
       "      <td>...</td>\n",
       "      <td>...</td>\n",
       "      <td>...</td>\n",
       "      <td>...</td>\n",
       "      <td>...</td>\n",
       "      <td>...</td>\n",
       "      <td>...</td>\n",
       "      <td>...</td>\n",
       "      <td>...</td>\n",
       "      <td>...</td>\n",
       "      <td>...</td>\n",
       "      <td>...</td>\n",
       "    </tr>\n",
       "    <tr>\n",
       "      <th>95</th>\n",
       "      <td>All I buy now is AmazonBasics when it comes to...</td>\n",
       "      <td>Amazon Electronics Products</td>\n",
       "      <td>buy amazonbasics come battery long lasting gre...</td>\n",
       "      <td>buy amazonbasics come battery long lasting gre...</td>\n",
       "      <td>0.287500</td>\n",
       "      <td>0.462500</td>\n",
       "      <td>0.7506</td>\n",
       "      <td>0.000</td>\n",
       "      <td>0.686</td>\n",
       "      <td>0.314</td>\n",
       "      <td>1</td>\n",
       "      <td>pos</td>\n",
       "    </tr>\n",
       "    <tr>\n",
       "      <th>96</th>\n",
       "      <td>Between LeapPads, Xbox controllers and remotes...</td>\n",
       "      <td>Amazon Electronics Products</td>\n",
       "      <td>leappads xbox controller remote use battery lo...</td>\n",
       "      <td>leappads xbox controller remote use battery lo...</td>\n",
       "      <td>0.350000</td>\n",
       "      <td>0.475000</td>\n",
       "      <td>0.6249</td>\n",
       "      <td>0.000</td>\n",
       "      <td>0.745</td>\n",
       "      <td>0.255</td>\n",
       "      <td>1</td>\n",
       "      <td>pos</td>\n",
       "    </tr>\n",
       "    <tr>\n",
       "      <th>97</th>\n",
       "      <td>I buy all my batteries here. Great long lastin...</td>\n",
       "      <td>Amazon Electronics Products</td>\n",
       "      <td>buy battery great long lasting battery</td>\n",
       "      <td>buy battery great long lasting battery</td>\n",
       "      <td>0.250000</td>\n",
       "      <td>0.383333</td>\n",
       "      <td>0.6249</td>\n",
       "      <td>0.000</td>\n",
       "      <td>0.549</td>\n",
       "      <td>0.451</td>\n",
       "      <td>1</td>\n",
       "      <td>pos</td>\n",
       "    </tr>\n",
       "    <tr>\n",
       "      <th>98</th>\n",
       "      <td>You know those crazy cheap batteries that are ...</td>\n",
       "      <td>Amazon Electronics Products</td>\n",
       "      <td>know crazy cheap battery light practically hit...</td>\n",
       "      <td>know crazy cheap battery light practically hit...</td>\n",
       "      <td>0.237500</td>\n",
       "      <td>0.862500</td>\n",
       "      <td>0.9210</td>\n",
       "      <td>0.046</td>\n",
       "      <td>0.654</td>\n",
       "      <td>0.299</td>\n",
       "      <td>1</td>\n",
       "      <td>pos</td>\n",
       "    </tr>\n",
       "    <tr>\n",
       "      <th>99</th>\n",
       "      <td>My PS3 remote control and my television remote...</td>\n",
       "      <td>Amazon Electronics Products</td>\n",
       "      <td>remote control television remote control work ...</td>\n",
       "      <td>remote control television remote control work ...</td>\n",
       "      <td>0.000000</td>\n",
       "      <td>0.200000</td>\n",
       "      <td>0.4404</td>\n",
       "      <td>0.000</td>\n",
       "      <td>0.734</td>\n",
       "      <td>0.266</td>\n",
       "      <td>1</td>\n",
       "      <td>pos</td>\n",
       "    </tr>\n",
       "  </tbody>\n",
       "</table>\n",
       "<p>100 rows × 12 columns</p>\n",
       "</div>"
      ],
      "text/plain": [
       "                                  AMAZON_TEXT_REVIEWS  \\\n",
       "0   I order 3 of them and one of the item is bad q...   \n",
       "1   Bulk is always the less expensive way to go fo...   \n",
       "2   Well they are not Duracell but for the price i...   \n",
       "3   Seem to work as well as name brand batteries a...   \n",
       "4   These batteries are very long lasting the pric...   \n",
       "..                                                ...   \n",
       "95  All I buy now is AmazonBasics when it comes to...   \n",
       "96  Between LeapPads, Xbox controllers and remotes...   \n",
       "97  I buy all my batteries here. Great long lastin...   \n",
       "98  You know those crazy cheap batteries that are ...   \n",
       "99  My PS3 remote control and my television remote...   \n",
       "\n",
       "                     CATAGORIES  \\\n",
       "0   Amazon Electronics Products   \n",
       "1   Amazon Electronics Products   \n",
       "2   Amazon Electronics Products   \n",
       "3   Amazon Electronics Products   \n",
       "4   Amazon Electronics Products   \n",
       "..                          ...   \n",
       "95  Amazon Electronics Products   \n",
       "96  Amazon Electronics Products   \n",
       "97  Amazon Electronics Products   \n",
       "98  Amazon Electronics Products   \n",
       "99  Amazon Electronics Products   \n",
       "\n",
       "                                         StopWReviews  \\\n",
       "0   order one item bad quality miss backup spring ...   \n",
       "1      bulk always less expensive way go product like   \n",
       "2                           well duracell price happy   \n",
       "3   seem work well name brand battery much good price   \n",
       "4                    battery long lasting price great   \n",
       "..                                                ...   \n",
       "95  buy amazonbasics come battery long lasting gre...   \n",
       "96  leappads xbox controller remote use battery lo...   \n",
       "97             buy battery great long lasting battery   \n",
       "98  know crazy cheap battery light practically hit...   \n",
       "99  remote control television remote control work ...   \n",
       "\n",
       "                                          CleanedText    tb_Pol   tb_Subj  \\\n",
       "0   order one item bad quality miss backup spring ... -0.700000  0.666667   \n",
       "1      bulk always less expensive way go product like -0.333333  0.383333   \n",
       "2                           well duracell price happy  0.800000  1.000000   \n",
       "3   seem work well name brand battery much good price  0.700000  0.600000   \n",
       "4                    battery long lasting price great  0.250000  0.383333   \n",
       "..                                                ...       ...       ...   \n",
       "95  buy amazonbasics come battery long lasting gre...  0.287500  0.462500   \n",
       "96  leappads xbox controller remote use battery lo...  0.350000  0.475000   \n",
       "97             buy battery great long lasting battery  0.250000  0.383333   \n",
       "98  know crazy cheap battery light practically hit...  0.237500  0.862500   \n",
       "99  remote control television remote control work ...  0.000000  0.200000   \n",
       "\n",
       "    compound    neg    neu    pos sentiment Label  \n",
       "0    -0.6249  0.298  0.702  0.000        -1   neg  \n",
       "1     0.3612  0.000  0.737  0.263         1   pos  \n",
       "2     0.7003  0.000  0.256  0.744         1   pos  \n",
       "3     0.6124  0.000  0.583  0.417         1   pos  \n",
       "4     0.6249  0.000  0.494  0.506         1   pos  \n",
       "..       ...    ...    ...    ...       ...   ...  \n",
       "95    0.7506  0.000  0.686  0.314         1   pos  \n",
       "96    0.6249  0.000  0.745  0.255         1   pos  \n",
       "97    0.6249  0.000  0.549  0.451         1   pos  \n",
       "98    0.9210  0.046  0.654  0.299         1   pos  \n",
       "99    0.4404  0.000  0.734  0.266         1   pos  \n",
       "\n",
       "[100 rows x 12 columns]"
      ]
     },
     "execution_count": 11,
     "metadata": {},
     "output_type": "execute_result"
    }
   ],
   "source": [
    "df.loc[df['neg'] < df['pos'], 'sentiment'] = '1' \n",
    "df.loc[df['neg'] >= df['pos'], 'sentiment'] = '-1' \n",
    "df.loc[df['neg'] < df['pos'], 'Label'] = 'pos' \n",
    "df.loc[df['neg'] >= df['pos'], 'Label'] = 'neg' \n",
    "df.head(100)"
   ]
  },
  {
   "cell_type": "code",
   "execution_count": 26,
   "metadata": {},
   "outputs": [
    {
     "data": {
      "text/plain": [
       "<matplotlib.axes._subplots.AxesSubplot at 0x1c8c91aca48>"
      ]
     },
     "execution_count": 26,
     "metadata": {},
     "output_type": "execute_result"
    },
    {
     "data": {
      "image/png": "[encoded data removed]",
      "text/plain": [
       "<Figure size 432x288 with 1 Axes>"
      ]
     },
     "metadata": {
      "needs_background": "light"
     },
     "output_type": "display_data"
    }
   ],
   "source": [
    "df[\"sentiment\"].value_counts().sort_values().plot.bar()"
   ]
  },
  {
   "cell_type": "code",
   "execution_count": 12,
   "metadata": {},
   "outputs": [
    {
     "data": {
      "text/html": [
       "<div>\n",
       "<style scoped>\n",
       "    .dataframe tbody tr th:only-of-type {\n",
       "        vertical-align: middle;\n",
       "    }\n",
       "\n",
       "    .dataframe tbody tr th {\n",
       "        vertical-align: top;\n",
       "    }\n",
       "\n",
       "    .dataframe thead th {\n",
       "        text-align: right;\n",
       "    }\n",
       "</style>\n",
       "<table border=\"1\" class=\"dataframe\">\n",
       "  <thead>\n",
       "    <tr style=\"text-align: right;\">\n",
       "      <th></th>\n",
       "      <th>reviews</th>\n",
       "      <th>score</th>\n",
       "    </tr>\n",
       "  </thead>\n",
       "  <tbody>\n",
       "    <tr>\n",
       "      <th>76534</th>\n",
       "      <td>disabled retire rn always wish librarian!happy...</td>\n",
       "      <td>1</td>\n",
       "    </tr>\n",
       "    <tr>\n",
       "      <th>76535</th>\n",
       "      <td>one point consider library work oppose work li...</td>\n",
       "      <td>1</td>\n",
       "    </tr>\n",
       "    <tr>\n",
       "      <th>76536</th>\n",
       "      <td>overall think excellent resource anyone pursue...</td>\n",
       "      <td>1</td>\n",
       "    </tr>\n",
       "    <tr>\n",
       "      <th>76537</th>\n",
       "      <td>great</td>\n",
       "      <td>1</td>\n",
       "    </tr>\n",
       "    <tr>\n",
       "      <th>76538</th>\n",
       "      <td>execellent info</td>\n",
       "      <td>-1</td>\n",
       "    </tr>\n",
       "  </tbody>\n",
       "</table>\n",
       "</div>"
      ],
      "text/plain": [
       "                                                 reviews score\n",
       "76534  disabled retire rn always wish librarian!happy...     1\n",
       "76535  one point consider library work oppose work li...     1\n",
       "76536  overall think excellent resource anyone pursue...     1\n",
       "76537                                              great     1\n",
       "76538                                    execellent info    -1"
      ]
     },
     "execution_count": 12,
     "metadata": {},
     "output_type": "execute_result"
    }
   ],
   "source": [
    "newdf = df[[\"CleanedText\", \"sentiment\"]]\n",
    "newdf.columns = [\"reviews\", \"score\"]\n",
    "newdf.tail()"
   ]
  },
  {
   "cell_type": "markdown",
   "metadata": {},
   "source": [
    "### Splitting the dataset into Train and Test By using sklearn.model_selection On importing train_test_split"
   ]
  },
  {
   "cell_type": "raw",
   "metadata": {},
   "source": [
    "train_test_split is a function in Sklearn model selection for splitting data arrays into two subsets: for training data and for testing data. With this function, we don't need to divide the dataset manually. By default, Sklearn train_test_split will make random partitions for the two subsets.\n",
    "\n",
    "Given two sequences, like x and y here, train_test_split() performs the split and returns four sequences (in this case NumPy arrays) in this order:\n",
    "\n",
    "1) x_train: The training part of the first sequence (x)\n",
    "2) x_test: The test part of the first sequence (x)\n",
    "3) y_train: The training part of the second sequence (y)\n",
    "4) y_test: The test part of the second sequence (y)"
   ]
  },
  {
   "cell_type": "raw",
   "metadata": {},
   "source": [
    "By specifying the train_size as 0.75, we aim to put 75% of the data into our training set,  and test_size as 0.25, we aim to put 25% of the data into our testing set. Because we only have 10 data points, the program automatically rounded the ratio to 7:3. It’s okay to omit the test_size parameter, if we already got the train_size specified."
   ]
  },
  {
   "cell_type": "markdown",
   "metadata": {},
   "source": [
    "Why Random State is used?\n",
    "\n",
    "random_state is basically used for reproducing our problem the same every time it is run. If we do not use a random_state in train_test_split, every time we make the split we might get a different set of train and test data points and will not help us in debugging, in case we may get an issue."
   ]
  },
  {
   "cell_type": "code",
   "execution_count": 28,
   "metadata": {},
   "outputs": [],
   "source": [
    "from sklearn.model_selection import train_test_split\n",
    "X = newdf['reviews']\n",
    "y = newdf['score']\n",
    "x_train,x_test,y_train,y_test = train_test_split(X,y ,train_size=0.75,test_size=0.25, random_state=101)"
   ]
  },
  {
   "cell_type": "markdown",
   "metadata": {},
   "source": [
    "## Vectorisation\n",
    "\n",
    "Currently, we have the messages as lists of tokens (also known as lemmas) and now we need to convert each of those messages into a vector the SciKit Learn's algorithm models can work with. Now we'll convert each message, represented as a list of tokens (lemmas) above, into a vector that machine learning models can understand. We'll do that in three steps using the bag-of-words model: Count how many times does a word occur in each message (Known as term frequency) Weigh the counts, so that frequent tokens get lower weight (inverse document frequency) Normalize the vectors to unit length, to abstract from the original text length (L2 norm) After the counting, the term weighting and normalization can be done with TF-IDF, using scikit-learn's TfidfTransformer."
   ]
  },
  {
   "cell_type": "markdown",
   "metadata": {},
   "source": [
    "# Applying Algorithms"
   ]
  },
  {
   "cell_type": "markdown",
   "metadata": {},
   "source": [
    "## 1.Naive Bayes(with precision & Recall, F1-score,confusion matrix) "
   ]
  },
  {
   "cell_type": "code",
   "execution_count": 305,
   "metadata": {},
   "outputs": [],
   "source": [
    "from sklearn.feature_extraction.text import CountVectorizer\n",
    "from sklearn.feature_extraction.text import TfidfTransformer\n",
    "from sklearn.pipeline import Pipeline\n",
    "from sklearn.naive_bayes import MultinomialNB"
   ]
  },
  {
   "cell_type": "code",
   "execution_count": 306,
   "metadata": {},
   "outputs": [],
   "source": [
    "from sklearn.model_selection import train_test_split\n",
    "X = newdf['reviews']\n",
    "y = newdf['score']\n",
    "# Perform a 70-30 time based splitting (shuffle = False)\n",
    "X_train_raw, X_test_raw, y_train, y_test = train_test_split(X, y, test_size = 0.3, shuffle = False)"
   ]
  },
  {
   "cell_type": "code",
   "execution_count": 307,
   "metadata": {},
   "outputs": [],
   "source": [
    "pipeNB = MultinomialNB()"
   ]
  },
  {
   "cell_type": "code",
   "execution_count": 308,
   "metadata": {},
   "outputs": [],
   "source": [
    "# Create an object of class CountVectorizer\n",
    "bow = CountVectorizer()\n",
    "# Call the fit_transform method on training data\n",
    "X_train = bow.fit_transform(X_train_raw.values)"
   ]
  },
  {
   "cell_type": "code",
   "execution_count": 261,
   "metadata": {},
   "outputs": [
    {
     "data": {
      "text/plain": [
       "(53577, 29072)"
      ]
     },
     "execution_count": 261,
     "metadata": {},
     "output_type": "execute_result"
    }
   ],
   "source": [
    "X_train.shape"
   ]
  },
  {
   "cell_type": "code",
   "execution_count": 309,
   "metadata": {},
   "outputs": [],
   "source": [
    "# Call the transform method on the test dataset\n",
    "X_test = bow.transform(X_test_raw.values)"
   ]
  },
  {
   "cell_type": "code",
   "execution_count": 263,
   "metadata": {},
   "outputs": [
    {
     "data": {
      "text/plain": [
       "(22962, 29072)"
      ]
     },
     "execution_count": 263,
     "metadata": {},
     "output_type": "execute_result"
    }
   ],
   "source": [
    "X_test.shape"
   ]
  },
  {
   "cell_type": "code",
   "execution_count": 310,
   "metadata": {},
   "outputs": [],
   "source": [
    "std = StandardScaler(with_mean=False)\n",
    "X_train = std.fit_transform(X_train)\n",
    "X_test = std.transform(X_test)"
   ]
  },
  {
   "cell_type": "code",
   "execution_count": 311,
   "metadata": {},
   "outputs": [
    {
     "data": {
      "text/plain": [
       "MultinomialNB()"
      ]
     },
     "execution_count": 311,
     "metadata": {},
     "output_type": "execute_result"
    }
   ],
   "source": [
    "pipeNB.fit(X_train, y_train)"
   ]
  },
  {
   "cell_type": "markdown",
   "metadata": {},
   "source": [
    "### precision & Recall , F1-score"
   ]
  },
  {
   "cell_type": "code",
   "execution_count": 312,
   "metadata": {},
   "outputs": [
    {
     "name": "stdout",
     "output_type": "stream",
     "text": [
      "              precision    recall  f1-score   support\n",
      "\n",
      "          -1       0.33      0.25      0.28      3352\n",
      "           1       0.88      0.91      0.89     19610\n",
      "\n",
      "    accuracy                           0.82     22962\n",
      "   macro avg       0.60      0.58      0.59     22962\n",
      "weighted avg       0.80      0.82      0.81     22962\n",
      "\n"
     ]
    }
   ],
   "source": [
    "predNB = pipeNB.predict(X_test) #predict testing data\n",
    "\n",
    "from sklearn.metrics import classification_report\n",
    "print(classification_report(y_test,predNB))"
   ]
  },
  {
   "cell_type": "markdown",
   "metadata": {},
   "source": [
    "### Confusion Matrix"
   ]
  },
  {
   "cell_type": "code",
   "execution_count": 268,
   "metadata": {},
   "outputs": [],
   "source": [
    "import pandas as pd\n",
    "import numpy as np\n",
    "import itertools\n",
    "import matplotlib.pyplot as plt\n",
    "from sklearn.metrics import confusion_matrix\n",
    "import pickle\n",
    "import sklearn\n",
    "from sklearn import linear_model"
   ]
  },
  {
   "cell_type": "code",
   "execution_count": 269,
   "metadata": {},
   "outputs": [],
   "source": [
    "# function to plot confusion matrix\n",
    "# this function is from sklearn website\n",
    "# link - http://scikit-learn.org/stable/auto_examples/model_selection/plot_confusion_matrix.html\n",
    "def plot_confusion_matrix(cm, classes,\n",
    "                          normalize=False,\n",
    "                          title='Confusion matrix',\n",
    "                          cmap=plt.cm.ocean_r):\n",
    "    \"\"\"\n",
    "    This function prints and plots the confusion matrix.\n",
    "    Normalization can be applied by setting `normalize=True`.\n",
    "    \"\"\"\n",
    "    if normalize:\n",
    "        cm = cm.astype('float') / cm.sum(axis=1)[:, np.newaxis]\n",
    "        print(\"Normalized confusion matrix\")\n",
    "    else:\n",
    "        print('Confusion matrix, without normalization')\n",
    "\n",
    "    print(cm)\n",
    "\n",
    "    plt.imshow(cm, interpolation='nearest', cmap=cmap)\n",
    "    plt.title(title)\n",
    "    plt.colorbar()\n",
    "    tick_marks = np.arange(len(classes))\n",
    "    plt.xticks(tick_marks, classes, rotation=45)\n",
    "    plt.yticks(tick_marks, classes)\n",
    "    \n",
    "    fmt = '.2f' if normalize else 'd'\n",
    "    thresh = cm.max() / 2.\n",
    "    for i, j in itertools.product(range(cm.shape[0]), range(cm.shape[1])):\n",
    "        plt.text(j, i, format(cm[i, j], fmt),\n",
    "                 horizontalalignment=\"center\",\n",
    "                 color=\"white\" if cm[i, j] > thresh else \"black\")\n",
    "\n",
    "    plt.tight_layout()\n",
    "    plt.ylabel('True label')\n",
    "    plt.xlabel('Predicted label')"
   ]
  },
  {
   "cell_type": "code",
   "execution_count": 270,
   "metadata": {},
   "outputs": [
    {
     "name": "stdout",
     "output_type": "stream",
     "text": [
      "Confusion matrix, without normalization\n",
      "[[  826  2526]\n",
      " [ 1687 17923]]\n",
      "Normalized confusion matrix\n",
      "[[0.25 0.75]\n",
      " [0.09 0.91]]\n"
     ]
    },
    {
     "data": {
      "image/png": "[encoded data removed]",
      "text/plain": [
       "<Figure size 432x288 with 2 Axes>"
      ]
     },
     "metadata": {
      "needs_background": "light"
     },
     "output_type": "display_data"
    },
    {
     "data": {
      "image/png": "[encoded data removed]",
      "text/plain": [
       "<Figure size 432x288 with 2 Axes>"
      ]
     },
     "metadata": {
      "needs_background": "light"
     },
     "output_type": "display_data"
    }
   ],
   "source": [
    "#Compute confusion matrix\n",
    "cnf_matrix = confusion_matrix(y_test,predNB)\n",
    "np.set_printoptions(precision=2)\n",
    "\n",
    "# Plot non-normalized confusion matrix\n",
    "plt.figure()\n",
    "plot_confusion_matrix(cnf_matrix, classes=[\"positive\", \"negative\"],\n",
    "                      title='Confusion matrix, without normalization')\n",
    "\n",
    "# Plot normalized confusion matrix\n",
    "plt.figure()\n",
    "plot_confusion_matrix(cnf_matrix, classes=[\"positive\", \"negative\"], normalize=True,\n",
    "                      title='Normalized confusion matrix')\n",
    "\n",
    "plt.show()"
   ]
  },
  {
   "cell_type": "code",
   "execution_count": 271,
   "metadata": {},
   "outputs": [
    {
     "name": "stdout",
     "output_type": "stream",
     "text": [
      "True Negatives:  826\n",
      "False Positives:  2526\n",
      "False Negatives:  1687\n",
      "True Positives:  17923\n"
     ]
    }
   ],
   "source": [
    "#extracting true_positives, false_positives, true_negatives, false_negatives\n",
    "tn, fp, fn, tp = confusion_matrix(y_test, predNB).ravel()\n",
    "print(\"True Negatives: \",tn)\n",
    "print(\"False Positives: \",fp)\n",
    "print(\"False Negatives: \",fn)\n",
    "print(\"True Positives: \",tp)"
   ]
  },
  {
   "cell_type": "markdown",
   "metadata": {},
   "source": [
    "### How Accurate is our model? Lets check by using confusion Matrix by using the formula\n",
    "##Accuracy (all correct / all) = TP + TN / TP + TN + FP + FN."
   ]
  },
  {
   "cell_type": "code",
   "execution_count": 88,
   "metadata": {},
   "outputs": [
    {
     "name": "stdout",
     "output_type": "stream",
     "text": [
      "Accuracy 81.65%:\n"
     ]
    }
   ],
   "source": [
    "Accuracy = (tn+tp)*100/(tp+tn+fp+fn) \n",
    "print(\"Accuracy {:0.2f}%:\".format(Accuracy))"
   ]
  },
  {
   "cell_type": "markdown",
   "metadata": {},
   "source": [
    "### Metrics beyond Accuracy(precison,Recall,F1-score,specificity)"
   ]
  },
  {
   "cell_type": "code",
   "execution_count": 89,
   "metadata": {},
   "outputs": [
    {
     "name": "stdout",
     "output_type": "stream",
     "text": [
      "Precision 0.88\n"
     ]
    }
   ],
   "source": [
    "#Precision \n",
    "Precision = tp/(tp+fp) \n",
    "print(\"Precision {:0.2f}\".format(Precision))"
   ]
  },
  {
   "cell_type": "code",
   "execution_count": 90,
   "metadata": {},
   "outputs": [
    {
     "name": "stdout",
     "output_type": "stream",
     "text": [
      "Recall 0.91\n"
     ]
    }
   ],
   "source": [
    "#Recall \n",
    "Recall = tp/(tp+fn) \n",
    "print(\"Recall {:0.2f}\".format(Recall))"
   ]
  },
  {
   "cell_type": "code",
   "execution_count": 91,
   "metadata": {},
   "outputs": [
    {
     "name": "stdout",
     "output_type": "stream",
     "text": [
      "F1 Score 0.89\n"
     ]
    }
   ],
   "source": [
    "#F1 Score\n",
    "f1 = (2*Precision*Recall)/(Precision + Recall)\n",
    "print(\"F1 Score {:0.2f}\".format(f1))"
   ]
  },
  {
   "cell_type": "code",
   "execution_count": 92,
   "metadata": {},
   "outputs": [
    {
     "name": "stdout",
     "output_type": "stream",
     "text": [
      "Specificity 0.25\n"
     ]
    }
   ],
   "source": [
    "#Specificity \n",
    "Specificity = tn/(tn+fp)\n",
    "print(\"Specificity {:0.2f}\".format(Specificity))"
   ]
  },
  {
   "cell_type": "markdown",
   "metadata": {},
   "source": [
    "### ROC (Receiver Operating Characteristic curve)"
   ]
  },
  {
   "cell_type": "markdown",
   "metadata": {},
   "source": [
    "The plot of ‘True Positive Rate’ (Sensitivity/Recall) against the ‘False Positive Rate’ (1-Specificity) at different classification thresholds.\n",
    "The area under the ROC curve (AUC ) measures the entire two-dimensional area underneath the curve. It is a measure of how well a parameter can distinguish between two diagnostic groups. Often used as a measure of quality of the classification models.\n",
    "A random classifier has an area under the curve of 0.5, while AUC for a perfect classifier is equal to 1."
   ]
  },
  {
   "cell_type": "code",
   "execution_count": 94,
   "metadata": {},
   "outputs": [
    {
     "name": "stdout",
     "output_type": "stream",
     "text": [
      "NaiveByaes AUC:  0.5985900476961854\n"
     ]
    }
   ],
   "source": [
    "rf_prob = pipeNB.predict_proba(X_test)[:,-1]\n",
    "rf_auc = roc_auc_score(y_test,rf_prob)\n",
    "print(\"NaiveByaes AUC: \", rf_auc)"
   ]
  },
  {
   "cell_type": "code",
   "execution_count": 95,
   "metadata": {},
   "outputs": [
    {
     "name": "stderr",
     "output_type": "stream",
     "text": [
      "C:\\Users\\Avinash\\anaconda3\\lib\\site-packages\\sklearn\\utils\\deprecation.py:86: FutureWarning: Function plot_roc_curve is deprecated; This will be removed in v0.5.0. Please use scikitplot.metrics.plot_roc instead.\n",
      "  warnings.warn(msg, category=FutureWarning)\n"
     ]
    },
    {
     "data": {
      "image/png": "[encoded data removed]",
      "text/plain": [
       "<Figure size 432x288 with 1 Axes>"
      ]
     },
     "metadata": {
      "needs_background": "light"
     },
     "output_type": "display_data"
    }
   ],
   "source": [
    "#ROC\n",
    "import scikitplot as skplt #to make things easy\n",
    "y_pred_proba =pipeNB.predict_proba(X_test)\n",
    "skplt.metrics.plot_roc_curve(y_test, y_pred_proba)\n",
    "plt.show()"
   ]
  },
  {
   "cell_type": "markdown",
   "metadata": {},
   "source": [
    "# 2. DECISION TREE"
   ]
  },
  {
   "cell_type": "code",
   "execution_count": 96,
   "metadata": {},
   "outputs": [],
   "source": [
    "from sklearn.tree import DecisionTreeClassifier\n",
    "\n",
    "from sklearn.preprocessing import StandardScaler\n",
    "\n",
    "from sklearn.metrics import accuracy_score, confusion_matrix\n",
    "from sklearn.model_selection import train_test_split, cross_val_score"
   ]
  },
  {
   "cell_type": "code",
   "execution_count": 97,
   "metadata": {},
   "outputs": [],
   "source": [
    "from sklearn.model_selection import train_test_split\n",
    "X = newdf['reviews']\n",
    "y = newdf['score']\n",
    "# Perform a 70-30 time based splitting (shuffle = False)\n",
    "X_train_raw, X_test_raw, y_train, y_test = train_test_split(X, y, test_size = 0.3, shuffle = False)"
   ]
  },
  {
   "cell_type": "code",
   "execution_count": 45,
   "metadata": {},
   "outputs": [
    {
     "name": "stdout",
     "output_type": "stream",
     "text": [
      "Requirement already satisfied: scikit-plot in c:\\users\\dell\\anaconda3.x\\lib\\site-packages (0.3.7)\n",
      "Requirement already satisfied: scikit-learn>=0.18 in c:\\users\\dell\\anaconda3.x\\lib\\site-packages (from scikit-plot) (0.22.1)\n",
      "Requirement already satisfied: matplotlib>=1.4.0 in c:\\users\\dell\\anaconda3.x\\lib\\site-packages (from scikit-plot) (3.1.3)\n",
      "Requirement already satisfied: scipy>=0.9 in c:\\users\\dell\\anaconda3.x\\lib\\site-packages (from scikit-plot) (1.4.1)\n",
      "Requirement already satisfied: joblib>=0.10 in c:\\users\\dell\\anaconda3.x\\lib\\site-packages (from scikit-plot) (0.14.1)\n",
      "Requirement already satisfied: numpy>=1.11.0 in c:\\users\\dell\\anaconda3.x\\lib\\site-packages (from scikit-learn>=0.18->scikit-plot) (1.19.5)\n",
      "Requirement already satisfied: pyparsing!=2.0.4,!=2.1.2,!=2.1.6,>=2.0.1 in c:\\users\\dell\\anaconda3.x\\lib\\site-packages (from matplotlib>=1.4.0->scikit-plot) (2.4.6)\n",
      "Requirement already satisfied: python-dateutil>=2.1 in c:\\users\\dell\\anaconda3.x\\lib\\site-packages (from matplotlib>=1.4.0->scikit-plot) (2.8.1)\n",
      "Requirement already satisfied: cycler>=0.10 in c:\\users\\dell\\anaconda3.x\\lib\\site-packages (from matplotlib>=1.4.0->scikit-plot) (0.10.0)\n",
      "Requirement already satisfied: kiwisolver>=1.0.1 in c:\\users\\dell\\anaconda3.x\\lib\\site-packages (from matplotlib>=1.4.0->scikit-plot) (1.1.0)\n",
      "Requirement already satisfied: six>=1.5 in c:\\users\\dell\\anaconda3.x\\lib\\site-packages (from python-dateutil>=2.1->matplotlib>=1.4.0->scikit-plot) (1.15.0)\n",
      "Requirement already satisfied: setuptools in c:\\users\\dell\\anaconda3.x\\lib\\site-packages (from kiwisolver>=1.0.1->matplotlib>=1.4.0->scikit-plot) (45.2.0.post20200210)\n",
      "Note: you may need to restart the kernel to use updated packages.\n"
     ]
    }
   ],
   "source": [
    "pip install scikit-plot"
   ]
  },
  {
   "cell_type": "code",
   "execution_count": 98,
   "metadata": {},
   "outputs": [],
   "source": [
    "from sklearn.feature_extraction.text import CountVectorizer, TfidfVectorizer"
   ]
  },
  {
   "cell_type": "code",
   "execution_count": 99,
   "metadata": {},
   "outputs": [],
   "source": [
    "# Create an object of class CountVectorizer\n",
    "bow = CountVectorizer()\n",
    "# Call the fit_transform method on training data\n",
    "X_train = bow.fit_transform(X_train_raw.values)"
   ]
  },
  {
   "cell_type": "code",
   "execution_count": 100,
   "metadata": {},
   "outputs": [
    {
     "data": {
      "text/plain": [
       "(53577, 29072)"
      ]
     },
     "execution_count": 100,
     "metadata": {},
     "output_type": "execute_result"
    }
   ],
   "source": [
    "X_train.shape"
   ]
  },
  {
   "cell_type": "code",
   "execution_count": 101,
   "metadata": {},
   "outputs": [],
   "source": [
    "# Call the transform method on the test dataset\n",
    "X_test = bow.transform(X_test_raw.values)"
   ]
  },
  {
   "cell_type": "code",
   "execution_count": 102,
   "metadata": {},
   "outputs": [
    {
     "data": {
      "text/plain": [
       "(22962, 29072)"
      ]
     },
     "execution_count": 102,
     "metadata": {},
     "output_type": "execute_result"
    }
   ],
   "source": [
    "X_test.shape"
   ]
  },
  {
   "cell_type": "markdown",
   "metadata": {},
   "source": [
    "#### Perform Column Standardization"
   ]
  },
  {
   "cell_type": "code",
   "execution_count": 103,
   "metadata": {},
   "outputs": [],
   "source": [
    "std = StandardScaler(with_mean=False)\n",
    "X_train = std.fit_transform(X_train)\n",
    "X_test = std.transform(X_test)"
   ]
  },
  {
   "cell_type": "code",
   "execution_count": 104,
   "metadata": {},
   "outputs": [],
   "source": [
    "import pandas as pd\n",
    "from sklearn.tree import DecisionTreeClassifier # Import Decision Tree Classifier\n",
    "from sklearn.model_selection import train_test_split # Import train_test_split function\n",
    "from sklearn import metrics #Import scikit-learn metrics module for accuracy calculation"
   ]
  },
  {
   "cell_type": "code",
   "execution_count": 272,
   "metadata": {},
   "outputs": [
    {
     "name": "stdout",
     "output_type": "stream",
     "text": [
      "Accuracy: 0.853976134483059\n"
     ]
    }
   ],
   "source": [
    "# Create Decision Tree classifer object\n",
    "dtree = DecisionTreeClassifier(max_depth=4)\n",
    "\n",
    "# Train Decision Tree Classifer\n",
    "dtree = dtree.fit(X_train,y_train)\n",
    "\n",
    "#Predict the response for test dataset\n",
    "y_pred = dtree.predict(X_test)\n",
    "\n",
    "# Model Accuracy, how often is the classifier correct?\n",
    "print(\"Accuracy:\",metrics.accuracy_score(y_test, y_pred))"
   ]
  },
  {
   "cell_type": "markdown",
   "metadata": {},
   "source": [
    "### Precisison and Recall"
   ]
  },
  {
   "cell_type": "code",
   "execution_count": 147,
   "metadata": {},
   "outputs": [
    {
     "name": "stdout",
     "output_type": "stream",
     "text": [
      "              precision    recall  f1-score   support\n",
      "\n",
      "          -1       0.44      0.00      0.00      3352\n",
      "           1       0.85      1.00      0.92     19610\n",
      "\n",
      "    accuracy                           0.85     22962\n",
      "   macro avg       0.65      0.50      0.46     22962\n",
      "weighted avg       0.79      0.85      0.79     22962\n",
      "\n"
     ]
    }
   ],
   "source": [
    "pred = dtree.predict(X_test) #predict testing data\n",
    "\n",
    "from sklearn.metrics import classification_report\n",
    "print(classification_report(y_test,pred))"
   ]
  },
  {
   "cell_type": "markdown",
   "metadata": {},
   "source": [
    "## Confusion matrix "
   ]
  },
  {
   "cell_type": "code",
   "execution_count": 148,
   "metadata": {},
   "outputs": [],
   "source": [
    "import pandas as pd\n",
    "import numpy as np\n",
    "import itertools\n",
    "import matplotlib.pyplot as plt\n",
    "from sklearn.metrics import confusion_matrix\n",
    "import pickle\n",
    "import sklearn\n",
    "from sklearn import linear_model"
   ]
  },
  {
   "cell_type": "code",
   "execution_count": 149,
   "metadata": {},
   "outputs": [],
   "source": [
    "# function to plot confusion matrix\n",
    "# this function is from sklearn website\n",
    "# link - http://scikit-learn.org/stable/auto_examples/model_selection/plot_confusion_matrix.html\n",
    "def plot_confusion_matrix(cm, classes,\n",
    "                          normalize=False,\n",
    "                          title='Confusion matrix',\n",
    "                          cmap=plt.cm.ocean_r):\n",
    "    \"\"\"\n",
    "    This function prints and plots the confusion matrix.\n",
    "    Normalization can be applied by setting `normalize=True`.\n",
    "    \"\"\"\n",
    "    if normalize:\n",
    "        cm = cm.astype('float') / cm.sum(axis=1)[:, np.newaxis]\n",
    "        print(\"Normalized confusion matrix\")\n",
    "    else:\n",
    "        print('Confusion matrix, without normalization')\n",
    "\n",
    "    print(cm)\n",
    "\n",
    "    plt.imshow(cm, interpolation='nearest', cmap=cmap)\n",
    "    plt.title(title)\n",
    "    plt.colorbar()\n",
    "    tick_marks = np.arange(len(classes))\n",
    "    plt.xticks(tick_marks, classes, rotation=45)\n",
    "    plt.yticks(tick_marks, classes)\n",
    "    \n",
    "    fmt = '.2f' if normalize else 'd'\n",
    "    thresh = cm.max() / 2.\n",
    "    for i, j in itertools.product(range(cm.shape[0]), range(cm.shape[1])):\n",
    "        plt.text(j, i, format(cm[i, j], fmt),\n",
    "                 horizontalalignment=\"center\",\n",
    "                 color=\"white\" if cm[i, j] > thresh else \"black\")\n",
    "\n",
    "    plt.tight_layout()\n",
    "    plt.ylabel('True label')\n",
    "    plt.xlabel('Predicted label')"
   ]
  },
  {
   "cell_type": "code",
   "execution_count": 150,
   "metadata": {},
   "outputs": [
    {
     "name": "stdout",
     "output_type": "stream",
     "text": [
      "Confusion matrix, without normalization\n",
      "[[    4  3348]\n",
      " [    5 19605]]\n",
      "Normalized confusion matrix\n",
      "[[1.19e-03 9.99e-01]\n",
      " [2.55e-04 1.00e+00]]\n"
     ]
    },
    {
     "data": {
      "image/png": "[encoded data removed]",
      "text/plain": [
       "<Figure size 432x288 with 2 Axes>"
      ]
     },
     "metadata": {
      "needs_background": "light"
     },
     "output_type": "display_data"
    },
    {
     "data": {
      "image/png": "[encoded data removed]",
      "text/plain": [
       "<Figure size 432x288 with 2 Axes>"
      ]
     },
     "metadata": {
      "needs_background": "light"
     },
     "output_type": "display_data"
    }
   ],
   "source": [
    "#Compute confusion matrix\n",
    "cnf_matrix = confusion_matrix(y_test,pred)\n",
    "np.set_printoptions(precision=2)\n",
    "\n",
    "# Plot non-normalized confusion matrix\n",
    "plt.figure()\n",
    "plot_confusion_matrix(cnf_matrix, classes=[\"positive\", \"negative\"],\n",
    "                      title='Confusion matrix, without normalization')\n",
    "\n",
    "# Plot normalized confusion matrix\n",
    "plt.figure()\n",
    "plot_confusion_matrix(cnf_matrix, classes=[\"positive\", \"negative\"], normalize=True,\n",
    "                      title='Normalized confusion matrix')\n",
    "\n",
    "plt.show()"
   ]
  },
  {
   "cell_type": "code",
   "execution_count": 151,
   "metadata": {},
   "outputs": [
    {
     "name": "stdout",
     "output_type": "stream",
     "text": [
      "True Negatives:  4\n",
      "False Positives:  3348\n",
      "False Negatives:  5\n",
      "True Positives:  19605\n"
     ]
    }
   ],
   "source": [
    "#extracting true_positives, false_positives, true_negatives, false_negatives\n",
    "tn, fp, fn, tp = confusion_matrix(y_test,pred).ravel()\n",
    "print(\"True Negatives: \",tn)\n",
    "print(\"False Positives: \",fp)\n",
    "print(\"False Negatives: \",fn)\n",
    "print(\"True Positives: \",tp)"
   ]
  },
  {
   "cell_type": "code",
   "execution_count": 152,
   "metadata": {},
   "outputs": [
    {
     "name": "stdout",
     "output_type": "stream",
     "text": [
      "Accuracy 85.40%:\n"
     ]
    }
   ],
   "source": [
    "Accuracy = (tn+tp)*100/(tp+tn+fp+fn) \n",
    "print(\"Accuracy {:0.2f}%:\".format(Accuracy))"
   ]
  },
  {
   "cell_type": "code",
   "execution_count": 153,
   "metadata": {},
   "outputs": [
    {
     "name": "stdout",
     "output_type": "stream",
     "text": [
      "Precision 0.85\n"
     ]
    }
   ],
   "source": [
    "#Precision \n",
    "Precision = tp/(tp+fp) \n",
    "print(\"Precision {:0.2f}\".format(Precision))"
   ]
  },
  {
   "cell_type": "code",
   "execution_count": 154,
   "metadata": {},
   "outputs": [
    {
     "name": "stdout",
     "output_type": "stream",
     "text": [
      "Recall 1.00\n"
     ]
    }
   ],
   "source": [
    "#Recall \n",
    "Recall = tp/(tp+fn) \n",
    "print(\"Recall {:0.2f}\".format(Recall))"
   ]
  },
  {
   "cell_type": "code",
   "execution_count": 155,
   "metadata": {},
   "outputs": [
    {
     "name": "stdout",
     "output_type": "stream",
     "text": [
      "F1 Score 0.92\n"
     ]
    }
   ],
   "source": [
    "#F1 Score\n",
    "f1 = (2*Precision*Recall)/(Precision + Recall)\n",
    "print(\"F1 Score {:0.2f}\".format(f1))"
   ]
  },
  {
   "cell_type": "code",
   "execution_count": 156,
   "metadata": {},
   "outputs": [
    {
     "name": "stdout",
     "output_type": "stream",
     "text": [
      "Specificity 0.00\n"
     ]
    }
   ],
   "source": [
    "#Specificity(TRUE NEGATIVE RATE) \n",
    "Specificity = tn/(tn+fp)\n",
    "print(\"Specificity {:0.2f}\".format(Specificity))"
   ]
  },
  {
   "cell_type": "code",
   "execution_count": 157,
   "metadata": {},
   "outputs": [
    {
     "name": "stdout",
     "output_type": "stream",
     "text": [
      "Sensitivity 1.00\n"
     ]
    }
   ],
   "source": [
    "#Sensitivity(TRUE POSITIVE RATE) \n",
    "Sensitivity = tp/(tp+fn)\n",
    "print(\"Sensitivity {:0.2f}\".format(Sensitivity))"
   ]
  },
  {
   "cell_type": "markdown",
   "metadata": {},
   "source": [
    "## ROC (Receiver Operating Characteristic curve) "
   ]
  },
  {
   "cell_type": "code",
   "execution_count": 158,
   "metadata": {},
   "outputs": [],
   "source": [
    "from sklearn.metrics import roc_auc_score, roc_curve"
   ]
  },
  {
   "cell_type": "code",
   "execution_count": 159,
   "metadata": {},
   "outputs": [
    {
     "name": "stdout",
     "output_type": "stream",
     "text": [
      "DecisionTree AUC:  0.7262486475533039\n"
     ]
    }
   ],
   "source": [
    "rf_prob = dtree.predict_proba(X_test)[:,-1]\n",
    "rf_auc = roc_auc_score(y_test,rf_prob)\n",
    "print(\"DecisionTree AUC: \", rf_auc)"
   ]
  },
  {
   "cell_type": "code",
   "execution_count": 160,
   "metadata": {},
   "outputs": [
    {
     "name": "stderr",
     "output_type": "stream",
     "text": [
      "C:\\Users\\Avinash\\anaconda3\\lib\\site-packages\\sklearn\\utils\\deprecation.py:86: FutureWarning: Function plot_roc_curve is deprecated; This will be removed in v0.5.0. Please use scikitplot.metrics.plot_roc instead.\n",
      "  warnings.warn(msg, category=FutureWarning)\n"
     ]
    },
    {
     "data": {
      "image/png": "[encoded data removed]",
      "text/plain": [
       "<Figure size 432x288 with 1 Axes>"
      ]
     },
     "metadata": {
      "needs_background": "light"
     },
     "output_type": "display_data"
    }
   ],
   "source": [
    "#ROC\n",
    "import scikitplot as skplt #to make things easy\n",
    "y_pred_proba =dtree.predict_proba(X_test)\n",
    "skplt.metrics.plot_roc_curve(y_test, y_pred_proba)\n",
    "plt.show()"
   ]
  },
  {
   "cell_type": "markdown",
   "metadata": {},
   "source": [
    "DECISION TREE VISUALIZATION"
   ]
  },
  {
   "cell_type": "code",
   "execution_count": 125,
   "metadata": {},
   "outputs": [
    {
     "name": "stdout",
     "output_type": "stream",
     "text": [
      "Requirement already satisfied: graphviz in c:\\users\\avinash\\anaconda3\\lib\\site-packages (0.16)Note: you may need to restart the kernel to use updated packages.\n",
      "\n"
     ]
    }
   ],
   "source": [
    "pip install graphviz"
   ]
  },
  {
   "cell_type": "code",
   "execution_count": 126,
   "metadata": {},
   "outputs": [
    {
     "name": "stdout",
     "output_type": "stream",
     "text": [
      "Requirement already satisfied: pydotplus in c:\\users\\avinash\\anaconda3\\lib\\site-packages (2.0.2)\n",
      "Requirement already satisfied: pyparsing>=2.0.1 in c:\\users\\avinash\\anaconda3\\lib\\site-packages (from pydotplus) (2.4.7)\n",
      "Note: you may need to restart the kernel to use updated packages.\n"
     ]
    }
   ],
   "source": [
    "pip install pydotplus"
   ]
  },
  {
   "cell_type": "code",
   "execution_count": 162,
   "metadata": {},
   "outputs": [],
   "source": [
    "from sklearn.tree import export_graphviz\n",
    "from sklearn.externals.six import StringIO  \n",
    "from IPython.display import Image  \n",
    "import pydotplus"
   ]
  },
  {
   "cell_type": "code",
   "execution_count": 161,
   "metadata": {},
   "outputs": [],
   "source": [
    "from sklearn.tree import export_graphviz\n",
    "\n",
    "export_graphviz(\n",
    "        dtree,\n",
    "        out_file=\"AMAZON_TEXT_REVIEWS_DTree.dot\",\n",
    "        rounded=True,\n",
    "        filled=True\n",
    "    )"
   ]
  },
  {
   "cell_type": "code",
   "execution_count": 58,
   "metadata": {},
   "outputs": [
    {
     "name": "stdout",
     "output_type": "stream",
     "text": [
      "\n",
      "Note: you may need to restart the kernel to use updated packages.Collecting package metadata (current_repodata.json): ...working... done\n",
      "Solving environment: ...working... done\n",
      "\n",
      "## Package Plan ##\n",
      "\n",
      "\n",
      "  environment location: C:\\Users\\Avinash\\anaconda3\n",
      "\n",
      "  added / updated specs:\n",
      "    - graphviz\n",
      "\n",
      "\n",
      "The following packages will be downloaded:\n",
      "\n",
      "    package                    |            build\n",
      "    ---------------------------|-----------------\n",
      "    _anaconda_depends-2020.07  |           py38_0           6 KB\n",
      "    anaconda-custom            |           py38_1          36 KB\n",
      "    ca-certificates-2021.4.13  |       haa95532_1         115 KB\n",
      "    certifi-2020.12.5          |   py38haa95532_0         141 KB\n",
      "    conda-4.10.1               |   py38haa95532_1         2.9 MB\n",
      "    cython-0.29.23             |   py38hd77b12b_0         1.7 MB\n",
      "    gmpy2-2.0.8                |   py38h7edee0f_3         145 KB\n",
      "    graphviz-2.38              |       hfd603c8_2        29.3 MB\n",
      "    libllvm9-9.0.1             |       h21ff451_0          61 KB\n",
      "    mpc-1.1.0                  |       h7edee0f_1         260 KB\n",
      "    mpfr-4.0.2                 |       h62dcd97_1         1.5 MB\n",
      "    mpir-3.0.0                 |       hec2e145_1         1.3 MB\n",
      "    openssl-1.1.1k             |       h2bbff1b_0         4.8 MB\n",
      "    snappy-1.1.8               |       h33f27b4_0          80 KB\n",
      "    tbb-2021.2.0               |       h59b6b97_0         137 KB\n",
      "    ------------------------------------------------------------\n",
      "                                           Total:        42.5 MB\n",
      "\n",
      "The following NEW packages will be INSTALLED:\n",
      "\n",
      "  _anaconda_depends  pkgs/main/win-64::_anaconda_depends-2020.07-py38_0\n",
      "  cython             pkgs/main/win-64::cython-0.29.23-py38hd77b12b_0\n",
      "  gmpy2              pkgs/main/win-64::gmpy2-2.0.8-py38h7edee0f_3\n",
      "  graphviz           pkgs/main/win-64::graphviz-2.38-hfd603c8_2\n",
      "  libllvm9           pkgs/main/win-64::libllvm9-9.0.1-h21ff451_0\n",
      "  mpc                pkgs/main/win-64::mpc-1.1.0-h7edee0f_1\n",
      "  mpfr               pkgs/main/win-64::mpfr-4.0.2-h62dcd97_1\n",
      "  mpir               pkgs/main/win-64::mpir-3.0.0-hec2e145_1\n",
      "  snappy             pkgs/main/win-64::snappy-1.1.8-h33f27b4_0\n",
      "  tbb                pkgs/main/win-64::tbb-2021.2.0-h59b6b97_0\n",
      "\n",
      "The following packages will be UPDATED:\n",
      "\n",
      "  ca-certificates                              2020.10.14-0 --> 2021.4.13-haa95532_1\n",
      "  certifi            pkgs/main/noarch::certifi-2020.6.20-p~ --> pkgs/main/win-64::certifi-2020.12.5-py38haa95532_0\n",
      "  conda              conda-forge::conda-4.9.2-py38haa244fe~ --> pkgs/main::conda-4.10.1-py38haa95532_1\n",
      "  openssl                                 1.1.1h-he774522_0 --> 1.1.1k-h2bbff1b_0\n",
      "\n",
      "The following packages will be DOWNGRADED:\n",
      "\n",
      "  anaconda                                   2020.11-py38_0 --> custom-py38_1\n",
      "\n",
      "\n",
      "\n",
      "Downloading and Extracting Packages\n",
      "\n",
      "tbb-2021.2.0         | 137 KB    |            |   0% \n",
      "tbb-2021.2.0         | 137 KB    | #1         |  12% \n",
      "tbb-2021.2.0         | 137 KB    | ########## | 100% \n",
      "tbb-2021.2.0         | 137 KB    | ########## | 100% \n",
      "\n",
      "cython-0.29.23       | 1.7 MB    |            |   0% \n",
      "cython-0.29.23       | 1.7 MB    | 5          |   5% \n",
      "cython-0.29.23       | 1.7 MB    | ##2        |  22% \n",
      "cython-0.29.23       | 1.7 MB    | #####4     |  54% \n",
      "cython-0.29.23       | 1.7 MB    | ########5  |  86% \n",
      "cython-0.29.23       | 1.7 MB    | ########## | 100% \n",
      "\n",
      "graphviz-2.38        | 29.3 MB   |            |   0% \n",
      "graphviz-2.38        | 29.3 MB   |            |   0% \n",
      "graphviz-2.38        | 29.3 MB   | 1          |   1% \n",
      "graphviz-2.38        | 29.3 MB   | 2          |   3% \n",
      "graphviz-2.38        | 29.3 MB   | 3          |   4% \n",
      "graphviz-2.38        | 29.3 MB   | 5          |   5% \n",
      "graphviz-2.38        | 29.3 MB   | 6          |   6% \n",
      "graphviz-2.38        | 29.3 MB   | 7          |   7% \n",
      "graphviz-2.38        | 29.3 MB   | 8          |   9% \n",
      "graphviz-2.38        | 29.3 MB   | 9          |  10% \n",
      "graphviz-2.38        | 29.3 MB   | #          |  11% \n",
      "graphviz-2.38        | 29.3 MB   | #1         |  12% \n",
      "graphviz-2.38        | 29.3 MB   | #3         |  13% \n",
      "graphviz-2.38        | 29.3 MB   | #4         |  14% \n",
      "graphviz-2.38        | 29.3 MB   | #5         |  15% \n",
      "graphviz-2.38        | 29.3 MB   | #6         |  16% \n",
      "graphviz-2.38        | 29.3 MB   | #7         |  18% \n",
      "graphviz-2.38        | 29.3 MB   | #8         |  19% \n",
      "graphviz-2.38        | 29.3 MB   | #9         |  20% \n",
      "graphviz-2.38        | 29.3 MB   | ##         |  21% \n",
      "graphviz-2.38        | 29.3 MB   | ##1        |  22% \n",
      "graphviz-2.38        | 29.3 MB   | ##3        |  24% \n",
      "graphviz-2.38        | 29.3 MB   | ##4        |  25% \n",
      "graphviz-2.38        | 29.3 MB   | ##6        |  26% \n",
      "graphviz-2.38        | 29.3 MB   | ##7        |  27% \n",
      "graphviz-2.38        | 29.3 MB   | ##8        |  28% \n",
      "graphviz-2.38        | 29.3 MB   | ##9        |  30% \n",
      "graphviz-2.38        | 29.3 MB   | ###        |  31% \n",
      "graphviz-2.38        | 29.3 MB   | ###1       |  32% \n",
      "graphviz-2.38        | 29.3 MB   | ###3       |  33% \n",
      "graphviz-2.38        | 29.3 MB   | ###4       |  35% \n",
      "graphviz-2.38        | 29.3 MB   | ###6       |  36% \n",
      "graphviz-2.38        | 29.3 MB   | ###7       |  37% \n",
      "graphviz-2.38        | 29.3 MB   | ###8       |  39% \n",
      "graphviz-2.38        | 29.3 MB   | ####       |  40% \n",
      "graphviz-2.38        | 29.3 MB   | ####1      |  42% \n",
      "graphviz-2.38        | 29.3 MB   | ####3      |  44% \n",
      "graphviz-2.38        | 29.3 MB   | ####5      |  45% \n",
      "graphviz-2.38        | 29.3 MB   | ####7      |  47% \n",
      "graphviz-2.38        | 29.3 MB   | ####8      |  49% \n",
      "graphviz-2.38        | 29.3 MB   | #####      |  51% \n",
      "graphviz-2.38        | 29.3 MB   | #####2     |  52% \n",
      "graphviz-2.38        | 29.3 MB   | #####3     |  54% \n",
      "graphviz-2.38        | 29.3 MB   | #####5     |  55% \n",
      "graphviz-2.38        | 29.3 MB   | #####6     |  57% "
     ]
    },
    {
     "name": "stderr",
     "output_type": "stream",
     "text": [
      "\n",
      "The environment is inconsistent, please check the package plan carefully\n",
      "The following packages are causing the inconsistency:\n",
      "\n",
      "  - defaults/win-64::anaconda==2020.11=py38_0\n"
     ]
    },
    {
     "name": "stdout",
     "output_type": "stream",
     "text": [
      "\n",
      "graphviz-2.38        | 29.3 MB   | #####7     |  58% \n",
      "graphviz-2.38        | 29.3 MB   | #####9     |  59% \n",
      "graphviz-2.38        | 29.3 MB   | ######     |  61% \n",
      "graphviz-2.38        | 29.3 MB   | ######2    |  63% \n",
      "graphviz-2.38        | 29.3 MB   | ######4    |  65% \n",
      "graphviz-2.38        | 29.3 MB   | ######6    |  66% \n",
      "graphviz-2.38        | 29.3 MB   | ######7    |  68% \n",
      "graphviz-2.38        | 29.3 MB   | ######9    |  69% \n",
      "graphviz-2.38        | 29.3 MB   | #######    |  71% \n",
      "graphviz-2.38        | 29.3 MB   | #######2   |  72% \n",
      "graphviz-2.38        | 29.3 MB   | #######3   |  74% \n",
      "graphviz-2.38        | 29.3 MB   | #######4   |  75% \n",
      "graphviz-2.38        | 29.3 MB   | #######5   |  76% \n",
      "graphviz-2.38        | 29.3 MB   | #######7   |  77% \n",
      "graphviz-2.38        | 29.3 MB   | #######8   |  78% \n",
      "graphviz-2.38        | 29.3 MB   | #######9   |  80% \n",
      "graphviz-2.38        | 29.3 MB   | ########1  |  81% \n",
      "graphviz-2.38        | 29.3 MB   | ########2  |  82% \n",
      "graphviz-2.38        | 29.3 MB   | ########3  |  84% \n",
      "graphviz-2.38        | 29.3 MB   | ########4  |  85% \n",
      "graphviz-2.38        | 29.3 MB   | ########6  |  86% \n",
      "graphviz-2.38        | 29.3 MB   | ########7  |  87% \n",
      "graphviz-2.38        | 29.3 MB   | ########8  |  88% \n",
      "graphviz-2.38        | 29.3 MB   | ########9  |  90% \n",
      "graphviz-2.38        | 29.3 MB   | #########  |  91% \n",
      "graphviz-2.38        | 29.3 MB   | #########1 |  92% \n",
      "graphviz-2.38        | 29.3 MB   | #########2 |  93% \n",
      "graphviz-2.38        | 29.3 MB   | #########4 |  94% \n",
      "graphviz-2.38        | 29.3 MB   | #########5 |  95% \n",
      "graphviz-2.38        | 29.3 MB   | #########6 |  96% \n",
      "graphviz-2.38        | 29.3 MB   | #########7 |  98% \n",
      "graphviz-2.38        | 29.3 MB   | #########9 |  99% \n",
      "graphviz-2.38        | 29.3 MB   | ########## | 100% \n",
      "\n",
      "snappy-1.1.8         | 80 KB     |            |   0% \n",
      "snappy-1.1.8         | 80 KB     | #9         |  20% \n",
      "snappy-1.1.8         | 80 KB     | ########## | 100% \n",
      "snappy-1.1.8         | 80 KB     | ########## | 100% \n",
      "\n",
      "mpc-1.1.0            | 260 KB    |            |   0% \n",
      "mpc-1.1.0            | 260 KB    | 6          |   6% \n",
      "mpc-1.1.0            | 260 KB    | ########## | 100% \n",
      "mpc-1.1.0            | 260 KB    | ########## | 100% \n",
      "\n",
      "certifi-2020.12.5    | 141 KB    |            |   0% \n",
      "certifi-2020.12.5    | 141 KB    | #1         |  11% \n",
      "certifi-2020.12.5    | 141 KB    | ########## | 100% \n",
      "certifi-2020.12.5    | 141 KB    | ########## | 100% \n",
      "\n",
      "gmpy2-2.0.8          | 145 KB    |            |   0% \n",
      "gmpy2-2.0.8          | 145 KB    | ###3       |  33% \n",
      "gmpy2-2.0.8          | 145 KB    | ########## | 100% \n",
      "gmpy2-2.0.8          | 145 KB    | ########## | 100% \n",
      "\n",
      "conda-4.10.1         | 2.9 MB    |            |   0% \n",
      "conda-4.10.1         | 2.9 MB    |            |   1% \n",
      "conda-4.10.1         | 2.9 MB    | #4         |  15% \n",
      "conda-4.10.1         | 2.9 MB    | ##7        |  27% \n",
      "conda-4.10.1         | 2.9 MB    | ###3       |  34% \n",
      "conda-4.10.1         | 2.9 MB    | ####       |  40% \n",
      "conda-4.10.1         | 2.9 MB    | ####6      |  47% \n",
      "conda-4.10.1         | 2.9 MB    | #####4     |  55% \n",
      "conda-4.10.1         | 2.9 MB    | ######3    |  63% \n",
      "conda-4.10.1         | 2.9 MB    | ########   |  80% \n",
      "conda-4.10.1         | 2.9 MB    | #########3 |  93% \n",
      "conda-4.10.1         | 2.9 MB    | ########## | 100% \n",
      "\n",
      "libllvm9-9.0.1       | 61 KB     |            |   0% \n",
      "libllvm9-9.0.1       | 61 KB     | ##6        |  26% \n",
      "libllvm9-9.0.1       | 61 KB     | ########## | 100% \n",
      "libllvm9-9.0.1       | 61 KB     | ########## | 100% \n",
      "\n",
      "openssl-1.1.1k       | 4.8 MB    |            |   0% \n",
      "openssl-1.1.1k       | 4.8 MB    |            |   0% \n",
      "openssl-1.1.1k       | 4.8 MB    | #5         |  16% \n",
      "openssl-1.1.1k       | 4.8 MB    | ##6        |  27% \n",
      "openssl-1.1.1k       | 4.8 MB    | ###5       |  35% \n",
      "openssl-1.1.1k       | 4.8 MB    | ####5      |  45% \n",
      "openssl-1.1.1k       | 4.8 MB    | #####5     |  55% \n",
      "openssl-1.1.1k       | 4.8 MB    | ######5    |  65% \n",
      "openssl-1.1.1k       | 4.8 MB    | #######4   |  74% \n",
      "openssl-1.1.1k       | 4.8 MB    | ########2  |  83% \n",
      "openssl-1.1.1k       | 4.8 MB    | ########9  |  89% \n",
      "openssl-1.1.1k       | 4.8 MB    | ########## | 100% \n",
      "openssl-1.1.1k       | 4.8 MB    | ########## | 100% \n",
      "\n",
      "anaconda-custom      | 36 KB     |            |   0% \n",
      "anaconda-custom      | 36 KB     | ########## | 100% \n",
      "anaconda-custom      | 36 KB     | ########## | 100% \n",
      "\n",
      "mpir-3.0.0           | 1.3 MB    |            |   0% \n",
      "mpir-3.0.0           | 1.3 MB    | 4          |   5% \n",
      "mpir-3.0.0           | 1.3 MB    | ###6       |  36% \n",
      "mpir-3.0.0           | 1.3 MB    | #######    |  70% \n",
      "mpir-3.0.0           | 1.3 MB    | ########## | 100% \n",
      "mpir-3.0.0           | 1.3 MB    | ########## | 100% \n",
      "\n",
      "ca-certificates-2021 | 115 KB    |            |   0% \n",
      "ca-certificates-2021 | 115 KB    | #3         |  14% \n",
      "ca-certificates-2021 | 115 KB    | ########## | 100% \n",
      "ca-certificates-2021 | 115 KB    | ########## | 100% \n",
      "\n",
      "_anaconda_depends-20 | 6 KB      |            |   0% \n",
      "_anaconda_depends-20 | 6 KB      | ########## | 100% \n",
      "_anaconda_depends-20 | 6 KB      | ########## | 100% \n",
      "\n",
      "mpfr-4.0.2           | 1.5 MB    |            |   0% \n",
      "mpfr-4.0.2           | 1.5 MB    | 1          |   1% \n",
      "mpfr-4.0.2           | 1.5 MB    | ###        |  31% \n",
      "mpfr-4.0.2           | 1.5 MB    | #####8     |  59% \n",
      "mpfr-4.0.2           | 1.5 MB    | #########3 |  94% \n",
      "mpfr-4.0.2           | 1.5 MB    | ########## | 100% \n",
      "Preparing transaction: ...working... done\n",
      "Verifying transaction: ...working... done\n",
      "Executing transaction: ...working... done\n"
     ]
    }
   ],
   "source": [
    "conda install graphviz"
   ]
  },
  {
   "cell_type": "markdown",
   "metadata": {},
   "source": [
    "# 3. LOGISTIC REGRESSION"
   ]
  },
  {
   "cell_type": "code",
   "execution_count": 164,
   "metadata": {},
   "outputs": [],
   "source": [
    "import pandas as pd\n",
    "import numpy as np\n",
    "from sklearn.preprocessing import LabelEncoder, StandardScaler\n",
    "from sklearn.model_selection import train_test_split, cross_validate\n",
    "from sklearn.metrics import classification_report, confusion_matrix, precision_score, recall_score, f1_score\n",
    "from sklearn.metrics import roc_auc_score, roc_curve\n",
    "from sklearn.ensemble import RandomForestClassifier, GradientBoostingClassifier\n",
    "from sklearn.svm import SVC\n",
    "from sklearn.linear_model import LogisticRegression\n",
    "from sklearn.naive_bayes import GaussianNB\n",
    "from sklearn.neural_network import MLPClassifier\n",
    "from sklearn.calibration import calibration_curve\n",
    "import matplotlib.pyplot as plt\n",
    "import matplotlib.lines as mlines"
   ]
  },
  {
   "cell_type": "code",
   "execution_count": 165,
   "metadata": {},
   "outputs": [],
   "source": [
    "X = newdf['reviews']\n",
    "y = newdf['score']"
   ]
  },
  {
   "cell_type": "code",
   "execution_count": 166,
   "metadata": {},
   "outputs": [],
   "source": [
    "# Perform a 70-30 time based splitting (shuffle = False)\n",
    "X_train_raw, X_test_raw, y_train, y_test = train_test_split(X, y, test_size = 0.3, shuffle = False)"
   ]
  },
  {
   "cell_type": "code",
   "execution_count": 167,
   "metadata": {},
   "outputs": [
    {
     "data": {
      "text/plain": [
       "((53577,), (53577,), (22962,), (22962,))"
      ]
     },
     "execution_count": 167,
     "metadata": {},
     "output_type": "execute_result"
    }
   ],
   "source": [
    "X_train_raw.shape, y_train.shape, X_test_raw.shape, y_test.shape"
   ]
  },
  {
   "cell_type": "code",
   "execution_count": 168,
   "metadata": {},
   "outputs": [],
   "source": [
    "import numpy as np\n",
    "import pandas as pd\n",
    "import matplotlib.pyplot as plt\n",
    "\n",
    "import sqlite3    ## SQL Interface\n",
    "import pickle     ## Used to save your data - Converts objects to byte stream and vice versa\n",
    "import time\n",
    "\n",
    "from sklearn.feature_extraction.text import CountVectorizer, TfidfVectorizer\n",
    "\n",
    "from sklearn.linear_model import LogisticRegression\n",
    "from sklearn.preprocessing import StandardScaler\n",
    "\n",
    "from sklearn.metrics import accuracy_score, confusion_matrix\n",
    "from sklearn.model_selection import train_test_split, cross_val_score"
   ]
  },
  {
   "cell_type": "code",
   "execution_count": 169,
   "metadata": {},
   "outputs": [],
   "source": [
    "# Create an object of class CountVectorizer\n",
    "bow = CountVectorizer()\n",
    "# Call the fit_transform method on training data\n",
    "X_train = bow.fit_transform(X_train_raw.values)"
   ]
  },
  {
   "cell_type": "code",
   "execution_count": 170,
   "metadata": {},
   "outputs": [],
   "source": [
    "# Call the transform method on the test dataset\n",
    "X_test = bow.transform(X_test_raw.values)"
   ]
  },
  {
   "cell_type": "code",
   "execution_count": 171,
   "metadata": {},
   "outputs": [],
   "source": [
    "std = StandardScaler(with_mean=False)\n",
    "X_train = std.fit_transform(X_train)\n",
    "X_test = std.transform(X_test)"
   ]
  },
  {
   "cell_type": "code",
   "execution_count": 90,
   "metadata": {},
   "outputs": [
    {
     "name": "stdout",
     "output_type": "stream",
     "text": [
      "Requirement already satisfied: scikit-plot in c:\\users\\dell\\anaconda3.x\\lib\\site-packages (0.3.7)\n",
      "Requirement already satisfied: matplotlib>=1.4.0 in c:\\users\\dell\\anaconda3.x\\lib\\site-packages (from scikit-plot) (3.1.3)\n",
      "Requirement already satisfied: scikit-learn>=0.18 in c:\\users\\dell\\anaconda3.x\\lib\\site-packages (from scikit-plot) (0.22.1)\n",
      "Requirement already satisfied: joblib>=0.10 in c:\\users\\dell\\anaconda3.x\\lib\\site-packages (from scikit-plot) (0.14.1)\n",
      "Requirement already satisfied: scipy>=0.9 in c:\\users\\dell\\anaconda3.x\\lib\\site-packages (from scikit-plot) (1.4.1)\n",
      "Requirement already satisfied: numpy>=1.11 in c:\\users\\dell\\anaconda3.x\\lib\\site-packages (from matplotlib>=1.4.0->scikit-plot) (1.19.5)\n",
      "Requirement already satisfied: pyparsing!=2.0.4,!=2.1.2,!=2.1.6,>=2.0.1 in c:\\users\\dell\\anaconda3.x\\lib\\site-packages (from matplotlib>=1.4.0->scikit-plot) (2.4.6)\n",
      "Requirement already satisfied: cycler>=0.10 in c:\\users\\dell\\anaconda3.x\\lib\\site-packages (from matplotlib>=1.4.0->scikit-plot) (0.10.0)\n",
      "Requirement already satisfied: kiwisolver>=1.0.1 in c:\\users\\dell\\anaconda3.x\\lib\\site-packages (from matplotlib>=1.4.0->scikit-plot) (1.1.0)\n",
      "Requirement already satisfied: python-dateutil>=2.1 in c:\\users\\dell\\anaconda3.x\\lib\\site-packages (from matplotlib>=1.4.0->scikit-plot) (2.8.1)\n",
      "Requirement already satisfied: six in c:\\users\\dell\\anaconda3.x\\lib\\site-packages (from cycler>=0.10->matplotlib>=1.4.0->scikit-plot) (1.15.0)\n",
      "Requirement already satisfied: setuptools in c:\\users\\dell\\anaconda3.x\\lib\\site-packages (from kiwisolver>=1.0.1->matplotlib>=1.4.0->scikit-plot) (45.2.0.post20200210)\n",
      "Note: you may need to restart the kernel to use updated packages.\n"
     ]
    }
   ],
   "source": [
    "pip install scikit-plot"
   ]
  },
  {
   "cell_type": "code",
   "execution_count": 172,
   "metadata": {},
   "outputs": [],
   "source": [
    "import pandas as pd\n",
    "import numpy as np\n",
    "from sklearn.preprocessing import LabelEncoder, StandardScaler\n",
    "from sklearn.model_selection import train_test_split, cross_validate\n",
    "from sklearn.metrics import classification_report, confusion_matrix, precision_score, recall_score, f1_score\n",
    "from sklearn.metrics import roc_auc_score, roc_curve\n",
    "from sklearn.linear_model import LogisticRegression\n",
    "from sklearn.calibration import calibration_curve\n",
    "import matplotlib.pyplot as plt\n",
    "import matplotlib.lines as mlines\n",
    "\n",
    "from warnings import filterwarnings\n",
    "filterwarnings('ignore')"
   ]
  },
  {
   "cell_type": "code",
   "execution_count": 273,
   "metadata": {},
   "outputs": [
    {
     "name": "stdout",
     "output_type": "stream",
     "text": [
      "Train score:  0.9980028743677324\n",
      "Test score: 0.8587231077432279\n",
      "Classification report:                precision    recall  f1-score   support\n",
      "\n",
      "          -1       0.63      0.51      0.57      4112\n",
      "           1       0.90      0.93      0.92     18850\n",
      "\n",
      "    accuracy                           0.86     22962\n",
      "   macro avg       0.76      0.72      0.74     22962\n",
      "weighted avg       0.85      0.86      0.85     22962\n",
      "\n"
     ]
    }
   ],
   "source": [
    "lg_mod = LogisticRegression()\n",
    "lg_mod.fit(X_train, y_train)\n",
    "\n",
    "print(\"Train score: \",lg_mod.score(X_train, y_train))\n",
    "\n",
    "pred_lg = lg_mod.predict(X_test)\n",
    "print('Test score:',lg_mod.score(X_test, y_test))\n",
    "\n",
    "print(\"Classification report: \",classification_report(pred_lg,y_test))"
   ]
  },
  {
   "cell_type": "markdown",
   "metadata": {},
   "source": [
    "## Confusion matrix "
   ]
  },
  {
   "cell_type": "code",
   "execution_count": 174,
   "metadata": {},
   "outputs": [],
   "source": [
    "import pandas as pd\n",
    "import numpy as np\n",
    "import itertools\n",
    "import matplotlib.pyplot as plt\n",
    "from sklearn.metrics import confusion_matrix\n",
    "import pickle\n",
    "import sklearn\n",
    "from sklearn import linear_model"
   ]
  },
  {
   "cell_type": "code",
   "execution_count": 175,
   "metadata": {},
   "outputs": [],
   "source": [
    "# function to plot confusion matrix\n",
    "# this function is from sklearn website\n",
    "# link - http://scikit-learn.org/stable/auto_examples/model_selection/plot_confusion_matrix.html\n",
    "def plot_confusion_matrix(cm, classes,\n",
    "                          normalize=False,\n",
    "                          title='Confusion matrix',\n",
    "                          cmap=plt.cm.ocean_r):\n",
    "    \"\"\"\n",
    "    This function prints and plots the confusion matrix.\n",
    "    Normalization can be applied by setting `normalize=True`.\n",
    "    \"\"\"\n",
    "    if normalize:\n",
    "        cm = cm.astype('float') / cm.sum(axis=1)[:, np.newaxis]\n",
    "        print(\"Normalized confusion matrix\")\n",
    "    else:\n",
    "        print('Confusion matrix, without normalization')\n",
    "\n",
    "    print(cm)\n",
    "\n",
    "    plt.imshow(cm, interpolation='nearest', cmap=cmap)\n",
    "    plt.title(title)\n",
    "    plt.colorbar()\n",
    "    tick_marks = np.arange(len(classes))\n",
    "    plt.xticks(tick_marks, classes, rotation=45)\n",
    "    plt.yticks(tick_marks, classes)\n",
    "    \n",
    "    fmt = '.2f' if normalize else 'd'\n",
    "    thresh = cm.max() / 2.\n",
    "    for i, j in itertools.product(range(cm.shape[0]), range(cm.shape[1])):\n",
    "        plt.text(j, i, format(cm[i, j], fmt),\n",
    "                 horizontalalignment=\"center\",\n",
    "                 color=\"white\" if cm[i, j] > thresh else \"black\")\n",
    "\n",
    "    plt.tight_layout()\n",
    "    plt.ylabel('True label')\n",
    "    plt.xlabel('Predicted label')"
   ]
  },
  {
   "cell_type": "code",
   "execution_count": 176,
   "metadata": {},
   "outputs": [
    {
     "name": "stdout",
     "output_type": "stream",
     "text": [
      "Confusion matrix, without normalization\n",
      "[[ 2109  1243]\n",
      " [ 2001 17609]]\n",
      "Normalized confusion matrix\n",
      "[[0.63 0.37]\n",
      " [0.1  0.9 ]]\n"
     ]
    },
    {
     "data": {
      "image/png": "[encoded data removed]",
      "text/plain": [
       "<Figure size 432x288 with 2 Axes>"
      ]
     },
     "metadata": {
      "needs_background": "light"
     },
     "output_type": "display_data"
    },
    {
     "data": {
      "image/png": "[encoded data removed]",
      "text/plain": [
       "<Figure size 432x288 with 2 Axes>"
      ]
     },
     "metadata": {
      "needs_background": "light"
     },
     "output_type": "display_data"
    }
   ],
   "source": [
    "#Compute confusion matrix\n",
    "cnf_matrix = confusion_matrix(y_test,pred_lg)\n",
    "np.set_printoptions(precision=2)\n",
    "\n",
    "# Plot non-normalized confusion matrix\n",
    "plt.figure()\n",
    "plot_confusion_matrix(cnf_matrix, classes=[\"positive\", \"negative\"],\n",
    "                      title='Confusion matrix, without normalization')\n",
    "\n",
    "# Plot normalized confusion matrix\n",
    "plt.figure()\n",
    "plot_confusion_matrix(cnf_matrix, classes=[\"positive\", \"negative\"], normalize=True,\n",
    "                      title='Normalized confusion matrix')\n",
    "\n",
    "plt.show()"
   ]
  },
  {
   "cell_type": "code",
   "execution_count": 177,
   "metadata": {},
   "outputs": [
    {
     "name": "stdout",
     "output_type": "stream",
     "text": [
      "True Negatives:  2109\n",
      "False Positives:  1243\n",
      "False Negatives:  2001\n",
      "True Positives:  17609\n"
     ]
    }
   ],
   "source": [
    "#extracting true_positives, false_positives, true_negatives, false_negatives\n",
    "tn, fp, fn, tp = confusion_matrix(y_test, pred_lg).ravel()\n",
    "print(\"True Negatives: \",tn)\n",
    "print(\"False Positives: \",fp)\n",
    "print(\"False Negatives: \",fn)\n",
    "print(\"True Positives: \",tp)"
   ]
  },
  {
   "cell_type": "code",
   "execution_count": 178,
   "metadata": {},
   "outputs": [
    {
     "name": "stdout",
     "output_type": "stream",
     "text": [
      "Accuracy 85.87%:\n"
     ]
    }
   ],
   "source": [
    "Accuracy = (tn+tp)*100/(tp+tn+fp+fn) \n",
    "print(\"Accuracy {:0.2f}%:\".format(Accuracy))"
   ]
  },
  {
   "cell_type": "code",
   "execution_count": 179,
   "metadata": {},
   "outputs": [
    {
     "name": "stdout",
     "output_type": "stream",
     "text": [
      "Specificity 0.63\n"
     ]
    }
   ],
   "source": [
    "#Specificity(TRUE NEGATIVE RATE) \n",
    "Specificity = tn/(tn+fp)\n",
    "print(\"Specificity {:0.2f}\".format(Specificity))"
   ]
  },
  {
   "cell_type": "code",
   "execution_count": 180,
   "metadata": {},
   "outputs": [
    {
     "name": "stdout",
     "output_type": "stream",
     "text": [
      "Sensitivity 0.90\n"
     ]
    }
   ],
   "source": [
    "#Sensitivity(TRUE POSITIVE RATE) \n",
    "Sensitivity = tp/(tp+fn)\n",
    "print(\"Sensitivity {:0.2f}\".format(Sensitivity))"
   ]
  },
  {
   "cell_type": "code",
   "execution_count": 181,
   "metadata": {},
   "outputs": [
    {
     "name": "stdout",
     "output_type": "stream",
     "text": [
      "FALSE POSITIVE RATE 0.37\n"
     ]
    }
   ],
   "source": [
    "#FALSE POSITIVE RATE\n",
    "fpr = fp/(tn+fp)\n",
    "print(\"FALSE POSITIVE RATE {:0.2f}\".format(fpr))"
   ]
  },
  {
   "cell_type": "markdown",
   "metadata": {},
   "source": [
    "##  ROC (Receiver Operating Characteristic curve)"
   ]
  },
  {
   "cell_type": "code",
   "execution_count": 182,
   "metadata": {},
   "outputs": [
    {
     "name": "stdout",
     "output_type": "stream",
     "text": [
      "Logistic Regression AUC:  0.8224521136505534\n"
     ]
    }
   ],
   "source": [
    "lg_prob = lg_mod.predict_proba(X_test)[:,-1]\n",
    "lg_auc = roc_auc_score(y_test, lg_prob)\n",
    "print(\"Logistic Regression AUC: \",lg_auc)\n"
   ]
  },
  {
   "cell_type": "code",
   "execution_count": 183,
   "metadata": {},
   "outputs": [
    {
     "data": {
      "image/png": "[encoded data removed]",
      "text/plain": [
       "<Figure size 432x288 with 1 Axes>"
      ]
     },
     "metadata": {
      "needs_background": "light"
     },
     "output_type": "display_data"
    }
   ],
   "source": [
    "#ROC\n",
    "import scikitplot as skplt #to make things easy\n",
    "y_pred_proba =lg_mod.predict_proba(X_test)\n",
    "skplt.metrics.plot_roc_curve(y_test, y_pred_proba)\n",
    "plt.show()"
   ]
  },
  {
   "cell_type": "markdown",
   "metadata": {},
   "source": [
    "# 4. RANDOM FOREST"
   ]
  },
  {
   "cell_type": "code",
   "execution_count": 185,
   "metadata": {},
   "outputs": [],
   "source": [
    "X = newdf['reviews']\n",
    "y = newdf['score']"
   ]
  },
  {
   "cell_type": "code",
   "execution_count": 186,
   "metadata": {},
   "outputs": [],
   "source": [
    "# Perform a 70-30 time based splitting (shuffle = False)\n",
    "X_train_raw, X_test_raw, y_train, y_test = train_test_split(X, y, test_size = 0.3, shuffle = False)"
   ]
  },
  {
   "cell_type": "code",
   "execution_count": 187,
   "metadata": {},
   "outputs": [
    {
     "data": {
      "text/plain": [
       "((53577,), (53577,), (22962,), (22962,))"
      ]
     },
     "execution_count": 187,
     "metadata": {},
     "output_type": "execute_result"
    }
   ],
   "source": [
    "X_train_raw.shape, y_train.shape, X_test_raw.shape, y_test.shape"
   ]
  },
  {
   "cell_type": "code",
   "execution_count": 188,
   "metadata": {},
   "outputs": [],
   "source": [
    "import numpy as np\n",
    "import pandas as pd\n",
    "import matplotlib.pyplot as plt\n",
    "\n",
    "import sqlite3    ## SQL Interface\n",
    "import pickle     ## Used to save your data - Converts objects to byte stream and vice versa\n",
    "import time\n",
    "\n",
    "from sklearn.feature_extraction.text import CountVectorizer, TfidfVectorizer\n",
    "\n",
    "from sklearn.linear_model import LogisticRegression\n",
    "from sklearn.preprocessing import StandardScaler\n",
    "\n",
    "from sklearn.metrics import accuracy_score, confusion_matrix\n",
    "from sklearn.model_selection import train_test_split, cross_val_score"
   ]
  },
  {
   "cell_type": "code",
   "execution_count": 189,
   "metadata": {},
   "outputs": [],
   "source": [
    "# Create an object of class CountVectorizer\n",
    "bow = CountVectorizer()\n",
    "# Call the fit_transform method on training data\n",
    "X_train = bow.fit_transform(X_train_raw.values)"
   ]
  },
  {
   "cell_type": "code",
   "execution_count": 190,
   "metadata": {},
   "outputs": [
    {
     "data": {
      "text/plain": [
       "(53577, 29072)"
      ]
     },
     "execution_count": 190,
     "metadata": {},
     "output_type": "execute_result"
    }
   ],
   "source": [
    "X_train.shape"
   ]
  },
  {
   "cell_type": "code",
   "execution_count": 191,
   "metadata": {},
   "outputs": [],
   "source": [
    "# Call the transform method on the test dataset\n",
    "X_test = bow.transform(X_test_raw.values)"
   ]
  },
  {
   "cell_type": "code",
   "execution_count": 192,
   "metadata": {},
   "outputs": [
    {
     "data": {
      "text/plain": [
       "(22962, 29072)"
      ]
     },
     "execution_count": 192,
     "metadata": {},
     "output_type": "execute_result"
    }
   ],
   "source": [
    "X_test.shape"
   ]
  },
  {
   "cell_type": "code",
   "execution_count": 193,
   "metadata": {},
   "outputs": [],
   "source": [
    "std = StandardScaler(with_mean=False)\n",
    "X_train = std.fit_transform(X_train)\n",
    "X_test = std.transform(X_test)"
   ]
  },
  {
   "cell_type": "code",
   "execution_count": 194,
   "metadata": {},
   "outputs": [],
   "source": [
    "import pandas as pd\n",
    "import numpy as np\n",
    "from sklearn.preprocessing import LabelEncoder, StandardScaler\n",
    "from sklearn.model_selection import train_test_split, cross_validate\n",
    "from sklearn.metrics import classification_report, confusion_matrix, precision_score, recall_score, f1_score\n",
    "from sklearn.metrics import roc_auc_score, roc_curve\n",
    "from sklearn.ensemble import RandomForestClassifier, GradientBoostingClassifier\n",
    "from sklearn.svm import SVC\n",
    "from sklearn.linear_model import LogisticRegression\n",
    "from sklearn.naive_bayes import GaussianNB\n",
    "from sklearn.neural_network import MLPClassifier\n",
    "from sklearn.calibration import calibration_curve\n",
    "import matplotlib.pyplot as plt\n",
    "import matplotlib.lines as mlines\n",
    "\n",
    "from warnings import filterwarnings\n",
    "filterwarnings('ignore')"
   ]
  },
  {
   "cell_type": "code",
   "execution_count": 195,
   "metadata": {},
   "outputs": [
    {
     "name": "stderr",
     "output_type": "stream",
     "text": [
      "[Parallel(n_jobs=1)]: Using backend SequentialBackend with 1 concurrent workers.\n",
      "[Parallel(n_jobs=1)]: Done 200 out of 200 | elapsed:  4.3min finished\n",
      "[Parallel(n_jobs=1)]: Using backend SequentialBackend with 1 concurrent workers.\n",
      "[Parallel(n_jobs=1)]: Done 200 out of 200 | elapsed:    7.9s finished\n",
      "[Parallel(n_jobs=1)]: Using backend SequentialBackend with 1 concurrent workers.\n"
     ]
    },
    {
     "name": "stdout",
     "output_type": "stream",
     "text": [
      "Train score:  0.9999813352744648\n"
     ]
    },
    {
     "name": "stderr",
     "output_type": "stream",
     "text": [
      "[Parallel(n_jobs=1)]: Done 200 out of 200 | elapsed:    3.7s finished\n",
      "[Parallel(n_jobs=1)]: Using backend SequentialBackend with 1 concurrent workers.\n"
     ]
    },
    {
     "name": "stdout",
     "output_type": "stream",
     "text": [
      "Test score: 0.8957843393432627\n"
     ]
    },
    {
     "name": "stderr",
     "output_type": "stream",
     "text": [
      "[Parallel(n_jobs=1)]: Done 200 out of 200 | elapsed:    3.7s finished\n"
     ]
    }
   ],
   "source": [
    "rf_mod = RandomForestClassifier(n_estimators=200, criterion='entropy', random_state= 10, verbose= 1)\n",
    "rf_mod.fit(X_train, y_train)\n",
    "\n",
    "print(\"Train score: \",rf_mod.score(X_train, y_train))\n",
    "\n",
    "pred_rf = rf_mod.predict(X_test)\n",
    "print('Test score:',rf_mod.score(X_test, y_test))"
   ]
  },
  {
   "cell_type": "code",
   "execution_count": 196,
   "metadata": {},
   "outputs": [
    {
     "name": "stdout",
     "output_type": "stream",
     "text": [
      "Classification report:                precision    recall  f1-score   support\n",
      "\n",
      "          -1       0.39      0.79      0.52      1677\n",
      "           1       0.98      0.90      0.94     21285\n",
      "\n",
      "    accuracy                           0.90     22962\n",
      "   macro avg       0.69      0.85      0.73     22962\n",
      "weighted avg       0.94      0.90      0.91     22962\n",
      "\n"
     ]
    }
   ],
   "source": [
    "print(\"Classification report: \",classification_report(pred_rf,y_test))"
   ]
  },
  {
   "cell_type": "markdown",
   "metadata": {},
   "source": [
    "## Confusion matrix "
   ]
  },
  {
   "cell_type": "code",
   "execution_count": 197,
   "metadata": {},
   "outputs": [],
   "source": [
    "import pandas as pd\n",
    "import numpy as np\n",
    "import itertools\n",
    "import matplotlib.pyplot as plt\n",
    "from sklearn.metrics import confusion_matrix\n",
    "import pickle\n",
    "import sklearn\n",
    "from sklearn import linear_model"
   ]
  },
  {
   "cell_type": "code",
   "execution_count": 198,
   "metadata": {},
   "outputs": [],
   "source": [
    "# function to plot confusion matrix\n",
    "# this function is from sklearn website\n",
    "# link - http://scikit-learn.org/stable/auto_examples/model_selection/plot_confusion_matrix.html\n",
    "def plot_confusion_matrix(cm, classes,\n",
    "                          normalize=False,\n",
    "                          title='Confusion matrix',\n",
    "                          cmap=plt.cm.ocean_r):\n",
    "    \"\"\"\n",
    "    This function prints and plots the confusion matrix.\n",
    "    Normalization can be applied by setting `normalize=True`.\n",
    "    \"\"\"\n",
    "    if normalize:\n",
    "        cm = cm.astype('float') / cm.sum(axis=1)[:, np.newaxis]\n",
    "        print(\"Normalized confusion matrix\")\n",
    "    else:\n",
    "        print('Confusion matrix, without normalization')\n",
    "\n",
    "    print(cm)\n",
    "\n",
    "    plt.imshow(cm, interpolation='nearest', cmap=cmap)\n",
    "    plt.title(title)\n",
    "    plt.colorbar()\n",
    "    tick_marks = np.arange(len(classes))\n",
    "    plt.xticks(tick_marks, classes, rotation=45)\n",
    "    plt.yticks(tick_marks, classes)\n",
    "    \n",
    "    fmt = '.2f' if normalize else 'd'\n",
    "    thresh = cm.max() / 2.\n",
    "    for i, j in itertools.product(range(cm.shape[0]), range(cm.shape[1])):\n",
    "        plt.text(j, i, format(cm[i, j], fmt),\n",
    "                 horizontalalignment=\"center\",\n",
    "                 color=\"white\" if cm[i, j] > thresh else \"black\")\n",
    "\n",
    "    plt.tight_layout()\n",
    "    plt.ylabel('True label')\n",
    "    plt.xlabel('Predicted label')"
   ]
  },
  {
   "cell_type": "code",
   "execution_count": 199,
   "metadata": {},
   "outputs": [
    {
     "name": "stdout",
     "output_type": "stream",
     "text": [
      "Confusion matrix, without normalization\n",
      "[[ 1318   359]\n",
      " [ 2034 19251]]\n",
      "Normalized confusion matrix\n",
      "[[0.79 0.21]\n",
      " [0.1  0.9 ]]\n"
     ]
    },
    {
     "data": {
      "image/png": "[encoded data removed]",
      "text/plain": [
       "<Figure size 432x288 with 2 Axes>"
      ]
     },
     "metadata": {
      "needs_background": "light"
     },
     "output_type": "display_data"
    },
    {
     "data": {
      "image/png": "[encoded data removed]",
      "text/plain": [
       "<Figure size 432x288 with 2 Axes>"
      ]
     },
     "metadata": {
      "needs_background": "light"
     },
     "output_type": "display_data"
    }
   ],
   "source": [
    "#Compute confusion matrix\n",
    "cnf_matrix = confusion_matrix(pred_rf,y_test)\n",
    "np.set_printoptions(precision=2)\n",
    "\n",
    "# Plot non-normalized confusion matrix\n",
    "plt.figure()\n",
    "plot_confusion_matrix(cnf_matrix, classes=[\"positive\", \"negative\"],\n",
    "                      title='Confusion matrix, without normalization')\n",
    "\n",
    "# Plot normalized confusion matrix\n",
    "plt.figure()\n",
    "plot_confusion_matrix(cnf_matrix, classes=[\"positive\", \"negative\"], normalize=True,\n",
    "                      title='Normalized confusion matrix')\n",
    "\n",
    "plt.show()"
   ]
  },
  {
   "cell_type": "code",
   "execution_count": 200,
   "metadata": {},
   "outputs": [
    {
     "name": "stdout",
     "output_type": "stream",
     "text": [
      "True Negatives:  1318\n",
      "False Positives:  359\n",
      "False Negatives:  2034\n",
      "True Positives:  19251\n"
     ]
    }
   ],
   "source": [
    "#extracting true_positives, false_positives, true_negatives, false_negatives\n",
    "tn, fp, fn, tp = confusion_matrix(pred_rf,y_test).ravel()\n",
    "print(\"True Negatives: \",tn)\n",
    "print(\"False Positives: \",fp)\n",
    "print(\"False Negatives: \",fn)\n",
    "print(\"True Positives: \",tp)"
   ]
  },
  {
   "cell_type": "code",
   "execution_count": 201,
   "metadata": {},
   "outputs": [
    {
     "name": "stdout",
     "output_type": "stream",
     "text": [
      "Accuracy 89.58%:\n"
     ]
    }
   ],
   "source": [
    "Accuracy = (tn+tp)*100/(tp+tn+fp+fn) \n",
    "print(\"Accuracy {:0.2f}%:\".format(Accuracy))"
   ]
  },
  {
   "cell_type": "code",
   "execution_count": 202,
   "metadata": {},
   "outputs": [
    {
     "name": "stdout",
     "output_type": "stream",
     "text": [
      "Precision 0.98\n"
     ]
    }
   ],
   "source": [
    "#Precision \n",
    "Precision = tp/(tp+fp) \n",
    "print(\"Precision {:0.2f}\".format(Precision))"
   ]
  },
  {
   "cell_type": "code",
   "execution_count": 203,
   "metadata": {},
   "outputs": [
    {
     "name": "stdout",
     "output_type": "stream",
     "text": [
      "Recall 0.90\n"
     ]
    }
   ],
   "source": [
    "#Recall \n",
    "Recall = tp/(tp+fn) \n",
    "print(\"Recall {:0.2f}\".format(Recall))"
   ]
  },
  {
   "cell_type": "code",
   "execution_count": 204,
   "metadata": {},
   "outputs": [
    {
     "name": "stdout",
     "output_type": "stream",
     "text": [
      "F1 Score 0.94\n"
     ]
    }
   ],
   "source": [
    "#F1 Score\n",
    "f1 = (2*Precision*Recall)/(Precision + Recall)\n",
    "print(\"F1 Score {:0.2f}\".format(f1))"
   ]
  },
  {
   "cell_type": "code",
   "execution_count": 205,
   "metadata": {},
   "outputs": [
    {
     "name": "stdout",
     "output_type": "stream",
     "text": [
      "Specificity 0.79\n"
     ]
    }
   ],
   "source": [
    "#Specificity(TRUE NEGATIVE RATE) \n",
    "Specificity = tn/(tn+fp)\n",
    "print(\"Specificity {:0.2f}\".format(Specificity))"
   ]
  },
  {
   "cell_type": "code",
   "execution_count": 206,
   "metadata": {},
   "outputs": [
    {
     "name": "stdout",
     "output_type": "stream",
     "text": [
      "Sensitivity 0.90\n"
     ]
    }
   ],
   "source": [
    "#Sensitivity(TRUE POSITIVE RATE) \n",
    "Sensitivity = tp/(tp+fn)\n",
    "print(\"Sensitivity {:0.2f}\".format(Sensitivity))"
   ]
  },
  {
   "cell_type": "code",
   "execution_count": 207,
   "metadata": {},
   "outputs": [
    {
     "name": "stdout",
     "output_type": "stream",
     "text": [
      "FALSE POSITIVE RATE 0.21\n"
     ]
    }
   ],
   "source": [
    "#FALSE POSITIVE RATE\n",
    "fpr = fp/(tn+fp)\n",
    "print(\"FALSE POSITIVE RATE {:0.2f}\".format(fpr))"
   ]
  },
  {
   "cell_type": "markdown",
   "metadata": {},
   "source": [
    "## ROC (Receiver Operating Characteristic curve)"
   ]
  },
  {
   "cell_type": "code",
   "execution_count": 208,
   "metadata": {},
   "outputs": [
    {
     "name": "stderr",
     "output_type": "stream",
     "text": [
      "[Parallel(n_jobs=1)]: Using backend SequentialBackend with 1 concurrent workers.\n"
     ]
    },
    {
     "name": "stdout",
     "output_type": "stream",
     "text": [
      "RandomForest AUC:  0.9149075985293169\n"
     ]
    },
    {
     "name": "stderr",
     "output_type": "stream",
     "text": [
      "[Parallel(n_jobs=1)]: Done 200 out of 200 | elapsed:    3.8s finished\n"
     ]
    }
   ],
   "source": [
    "rf_prob = rf_mod.predict_proba(X_test)[:,-1]\n",
    "rf_auc = roc_auc_score(y_test,rf_prob)\n",
    "print(\"RandomForest AUC: \", rf_auc)\n"
   ]
  },
  {
   "cell_type": "code",
   "execution_count": 209,
   "metadata": {},
   "outputs": [
    {
     "name": "stderr",
     "output_type": "stream",
     "text": [
      "[Parallel(n_jobs=1)]: Using backend SequentialBackend with 1 concurrent workers.\n",
      "[Parallel(n_jobs=1)]: Done 200 out of 200 | elapsed:    3.7s finished\n"
     ]
    },
    {
     "data": {
      "image/png": "[encoded data removed]",
      "text/plain": [
       "<Figure size 432x288 with 1 Axes>"
      ]
     },
     "metadata": {
      "needs_background": "light"
     },
     "output_type": "display_data"
    }
   ],
   "source": [
    "#ROC\n",
    "import scikitplot as skplt #to make things easy\n",
    "y_pred_proba =rf_mod.predict_proba(X_test)\n",
    "skplt.metrics.plot_roc_curve(y_test, y_pred_proba)\n",
    "plt.show()"
   ]
  },
  {
   "cell_type": "markdown",
   "metadata": {},
   "source": [
    "## 5. SUPPORT VECTOR MACHINE(LinearSVC)"
   ]
  },
  {
   "cell_type": "code",
   "execution_count": 283,
   "metadata": {},
   "outputs": [],
   "source": [
    "from sklearn.model_selection import train_test_split\n",
    "X = newdf['reviews']\n",
    "y = newdf['score']\n",
    "X_train,X_test,y_train,y_test = train_test_split(X,y ,train_size=0.75,test_size=0.25, random_state=101)"
   ]
  },
  {
   "cell_type": "code",
   "execution_count": 284,
   "metadata": {},
   "outputs": [
    {
     "data": {
      "text/plain": [
       "((53577,), (57404,), (22962,), (19135,))"
      ]
     },
     "execution_count": 284,
     "metadata": {},
     "output_type": "execute_result"
    }
   ],
   "source": [
    "X_train_raw.shape, y_train.shape, X_test_raw.shape, y_test.shape"
   ]
  },
  {
   "cell_type": "markdown",
   "metadata": {},
   "source": [
    "#### ROC with AUC score(fitted train in clf.fit)"
   ]
  },
  {
   "cell_type": "code",
   "execution_count": 285,
   "metadata": {},
   "outputs": [
    {
     "data": {
      "image/png": "[encoded data removed]",
      "text/plain": [
       "<Figure size 432x288 with 1 Axes>"
      ]
     },
     "metadata": {
      "needs_background": "light"
     },
     "output_type": "display_data"
    }
   ],
   "source": [
    "import matplotlib.pyplot as plt  \n",
    ">>> from sklearn import datasets, metrics, model_selection, svm\n",
    ">>> X, y = datasets.make_classification(random_state=0)\n",
    ">>> X_train, X_test, y_train, y_test = model_selection.train_test_split(\n",
    "...     X, y, random_state=0)\n",
    ">>> clf = svm.SVC(random_state=0)\n",
    ">>> clf.fit(X_train, y_train)\n",
    "SVC(random_state=0)\n",
    ">>> metrics.plot_roc_curve(clf, X_test, y_test)  \n",
    "plt.show()"
   ]
  },
  {
   "cell_type": "code",
   "execution_count": 286,
   "metadata": {},
   "outputs": [
    {
     "name": "stdout",
     "output_type": "stream",
     "text": [
      "              precision    recall  f1-score   support\n",
      "\n",
      "           0       0.86      0.92      0.89        13\n",
      "           1       0.91      0.83      0.87        12\n",
      "\n",
      "    accuracy                           0.88        25\n",
      "   macro avg       0.88      0.88      0.88        25\n",
      "weighted avg       0.88      0.88      0.88        25\n",
      "\n"
     ]
    }
   ],
   "source": [
    "pred = clf.predict(X_test) #predict testing data\n",
    "\n",
    "from sklearn.metrics import classification_report\n",
    "print(classification_report(y_test,pred))"
   ]
  },
  {
   "cell_type": "markdown",
   "metadata": {},
   "source": [
    "### Confusion matrix"
   ]
  },
  {
   "cell_type": "code",
   "execution_count": 213,
   "metadata": {},
   "outputs": [],
   "source": [
    "import pandas as pd\n",
    "import numpy as np\n",
    "import itertools\n",
    "import matplotlib.pyplot as plt\n",
    "from sklearn.metrics import confusion_matrix\n",
    "import pickle\n",
    "import sklearn\n",
    "from sklearn import linear_model"
   ]
  },
  {
   "cell_type": "code",
   "execution_count": 214,
   "metadata": {},
   "outputs": [],
   "source": [
    "# function to plot confusion matrix\n",
    "# this function is from sklearn website\n",
    "# link - http://scikit-learn.org/stable/auto_examples/model_selection/plot_confusion_matrix.html\n",
    "def plot_confusion_matrix(cm, classes,\n",
    "                          normalize=False,\n",
    "                          title='Confusion matrix',\n",
    "                          cmap=plt.cm.ocean_r):\n",
    "    \"\"\"\n",
    "    This function prints and plots the confusion matrix.\n",
    "    Normalization can be applied by setting `normalize=True`.\n",
    "    \"\"\"\n",
    "    if normalize:\n",
    "        cm = cm.astype('float') / cm.sum(axis=1)[:, np.newaxis]\n",
    "        print(\"Normalized confusion matrix\")\n",
    "    else:\n",
    "        print('Confusion matrix, without normalization')\n",
    "\n",
    "    print(cm)\n",
    "\n",
    "    plt.imshow(cm, interpolation='nearest', cmap=cmap)\n",
    "    plt.title(title)\n",
    "    plt.colorbar()\n",
    "    tick_marks = np.arange(len(classes))\n",
    "    plt.xticks(tick_marks, classes, rotation=45)\n",
    "    plt.yticks(tick_marks, classes)\n",
    "    \n",
    "    fmt = '.2f' if normalize else 'd'\n",
    "    thresh = cm.max() / 2.\n",
    "    for i, j in itertools.product(range(cm.shape[0]), range(cm.shape[1])):\n",
    "        plt.text(j, i, format(cm[i, j], fmt),\n",
    "                 horizontalalignment=\"center\",\n",
    "                 color=\"white\" if cm[i, j] > thresh else \"black\")\n",
    "\n",
    "    plt.tight_layout()\n",
    "    plt.ylabel('True label')\n",
    "    plt.xlabel('Predicted label')"
   ]
  },
  {
   "cell_type": "code",
   "execution_count": 215,
   "metadata": {},
   "outputs": [
    {
     "name": "stdout",
     "output_type": "stream",
     "text": [
      "Confusion matrix, without normalization\n",
      "[[12  1]\n",
      " [ 2 10]]\n",
      "Normalized confusion matrix\n",
      "[[0.92 0.08]\n",
      " [0.17 0.83]]\n"
     ]
    },
    {
     "data": {
      "image/png": "[encoded data removed]",
      "text/plain": [
       "<Figure size 432x288 with 2 Axes>"
      ]
     },
     "metadata": {
      "needs_background": "light"
     },
     "output_type": "display_data"
    },
    {
     "data": {
      "image/png": "[encoded data removed]",
      "text/plain": [
       "<Figure size 432x288 with 2 Axes>"
      ]
     },
     "metadata": {
      "needs_background": "light"
     },
     "output_type": "display_data"
    }
   ],
   "source": [
    "cnf_matrix = confusion_matrix(y_test,pred)\n",
    "np.set_printoptions(precision=2)\n",
    "\n",
    "# Plot non-normalized confusion matrix\n",
    "plt.figure()\n",
    "plot_confusion_matrix(cnf_matrix, classes=[\"positive\", \"negative\"],\n",
    "                      title='Confusion matrix, without normalization')\n",
    "\n",
    "# Plot normalized confusion matrix\n",
    "plt.figure()\n",
    "plot_confusion_matrix(cnf_matrix, classes=[\"positive\", \"negative\"], normalize=True,\n",
    "                      title='Normalized confusion matrix')\n",
    "\n",
    "plt.show()"
   ]
  },
  {
   "cell_type": "code",
   "execution_count": 216,
   "metadata": {},
   "outputs": [
    {
     "name": "stdout",
     "output_type": "stream",
     "text": [
      "True Negatives:  12\n",
      "False Positives:  1\n",
      "False Negatives:  2\n",
      "True Positives:  10\n"
     ]
    }
   ],
   "source": [
    "#extracting true_positives, false_positives, true_negatives, false_negatives\n",
    "tn, fp, fn, tp = confusion_matrix(y_test,pred).ravel()\n",
    "print(\"True Negatives: \",tn)\n",
    "print(\"False Positives: \",fp)\n",
    "print(\"False Negatives: \",fn)\n",
    "print(\"True Positives: \",tp)"
   ]
  },
  {
   "cell_type": "code",
   "execution_count": 217,
   "metadata": {},
   "outputs": [
    {
     "name": "stdout",
     "output_type": "stream",
     "text": [
      "Accuracy 88.00%:\n"
     ]
    }
   ],
   "source": [
    "Accuracy = (tn+tp)*100/(tp+tn+fp+fn) \n",
    "print(\"Accuracy {:0.2f}%:\".format(Accuracy))"
   ]
  },
  {
   "cell_type": "code",
   "execution_count": 218,
   "metadata": {},
   "outputs": [
    {
     "name": "stdout",
     "output_type": "stream",
     "text": [
      "Precision 0.91\n"
     ]
    }
   ],
   "source": [
    "#Precision \n",
    "Precision = tp/(tp+fp) \n",
    "print(\"Precision {:0.2f}\".format(Precision))"
   ]
  },
  {
   "cell_type": "code",
   "execution_count": 219,
   "metadata": {},
   "outputs": [
    {
     "name": "stdout",
     "output_type": "stream",
     "text": [
      "Recall 0.83\n"
     ]
    }
   ],
   "source": [
    "#Recall \n",
    "Recall = tp/(tp+fn) \n",
    "print(\"Recall {:0.2f}\".format(Recall))"
   ]
  },
  {
   "cell_type": "code",
   "execution_count": 220,
   "metadata": {},
   "outputs": [
    {
     "name": "stdout",
     "output_type": "stream",
     "text": [
      "F1 Score 0.87\n"
     ]
    }
   ],
   "source": [
    "#F1 Score\n",
    "f1 = (2*Precision*Recall)/(Precision + Recall)\n",
    "print(\"F1 Score {:0.2f}\".format(f1))"
   ]
  },
  {
   "cell_type": "code",
   "execution_count": 221,
   "metadata": {},
   "outputs": [
    {
     "name": "stdout",
     "output_type": "stream",
     "text": [
      "Specificity 0.92\n"
     ]
    }
   ],
   "source": [
    "#Specificity(TRUE NEGATIVE RATE) \n",
    "Specificity = tn/(tn+fp)\n",
    "print(\"Specificity {:0.2f}\".format(Specificity))"
   ]
  },
  {
   "cell_type": "code",
   "execution_count": 222,
   "metadata": {},
   "outputs": [
    {
     "name": "stdout",
     "output_type": "stream",
     "text": [
      "Sensitivity 0.83\n"
     ]
    }
   ],
   "source": [
    "#Sensitivity(TRUE POSITIVE RATE) \n",
    "Sensitivity = tp/(tp+fn)\n",
    "print(\"Sensitivity {:0.2f}\".format(Sensitivity))"
   ]
  },
  {
   "cell_type": "code",
   "execution_count": 223,
   "metadata": {},
   "outputs": [
    {
     "name": "stdout",
     "output_type": "stream",
     "text": [
      "FALSE POSITIVE RATE 0.08\n"
     ]
    }
   ],
   "source": [
    "#FALSE POSITIVE RATE\n",
    "fpr = fp/(tn+fp)\n",
    "print(\"FALSE POSITIVE RATE {:0.2f}\".format(fpr))"
   ]
  },
  {
   "cell_type": "markdown",
   "metadata": {},
   "source": [
    "#### CLEAR VIEW of ALL MATRICS"
   ]
  },
  {
   "cell_type": "code",
   "execution_count": 224,
   "metadata": {},
   "outputs": [
    {
     "name": "stdout",
     "output_type": "stream",
     "text": [
      "Train score:  0.96\n",
      "Test score: 0.88\n",
      "Classification report:                precision    recall  f1-score   support\n",
      "\n",
      "           0       0.92      0.86      0.89        14\n",
      "           1       0.83      0.91      0.87        11\n",
      "\n",
      "    accuracy                           0.88        25\n",
      "   macro avg       0.88      0.88      0.88        25\n",
      "weighted avg       0.88      0.88      0.88        25\n",
      "\n",
      "Average weighted precision:  0.9090909090909091\n",
      "Average weighted recall:  0.8333333333333334\n",
      "Average weighted f1 score:  0.8695652173913043\n"
     ]
    }
   ],
   "source": [
    "svm_mod = SVC(probability=True)\n",
    "svm_mod.fit(X_train, y_train)\n",
    "\n",
    "print(\"Train score: \",svm_mod.score(X_train, y_train))\n",
    "\n",
    "pred_svc = svm_mod.predict(X_test)\n",
    "print('Test score:',svm_mod.score(X_test, y_test))\n",
    "\n",
    "print(\"Classification report: \",classification_report(pred_svc,y_test))\n",
    "\n",
    "print(\"Average weighted precision: \",precision_score(y_test,pred_svc))\n",
    "print(\"Average weighted recall: \",recall_score(y_test,pred_svc))\n",
    "print(\"Average weighted f1 score: \",f1_score(y_test,pred_svc))"
   ]
  },
  {
   "cell_type": "markdown",
   "metadata": {},
   "source": [
    "# MODEL COMPARISION"
   ]
  },
  {
   "cell_type": "code",
   "execution_count": 246,
   "metadata": {},
   "outputs": [],
   "source": [
    "from pandas.plotting import scatter_matrix"
   ]
  },
  {
   "cell_type": "code",
   "execution_count": 249,
   "metadata": {},
   "outputs": [
    {
     "data": {
      "image/png": "[encoded data removed]",
      "text/plain": [
       "<Figure size 576x432 with 36 Axes>"
      ]
     },
     "metadata": {
      "needs_background": "light"
     },
     "output_type": "display_data"
    }
   ],
   "source": [
    "scatter_matrix(df, figsize=(8, 6))\n",
    "plt.show()"
   ]
  },
  {
   "cell_type": "code",
   "execution_count": 274,
   "metadata": {},
   "outputs": [],
   "source": [
    "## import statements ##\n",
    "import numpy as np\n",
    "import pandas as pd\n",
    "import seaborn as sns\n",
    "\n",
    "import matplotlib.pyplot as plt\n",
    "%matplotlib inline\n"
   ]
  },
  {
   "cell_type": "code",
   "execution_count": 313,
   "metadata": {},
   "outputs": [
    {
     "data": {
      "text/plain": [
       "0.8165229509624597"
      ]
     },
     "execution_count": 313,
     "metadata": {},
     "output_type": "execute_result"
    }
   ],
   "source": [
    "accuracy_score(y_test,predNB) #Accuracy score of Naive Bayes"
   ]
  },
  {
   "cell_type": "code",
   "execution_count": 278,
   "metadata": {},
   "outputs": [
    {
     "data": {
      "text/plain": [
       "0.853976134483059"
      ]
     },
     "execution_count": 278,
     "metadata": {},
     "output_type": "execute_result"
    }
   ],
   "source": [
    "accuracy_score(y_test,y_pred) #Accuracy score of Decision Tree"
   ]
  },
  {
   "cell_type": "code",
   "execution_count": 279,
   "metadata": {},
   "outputs": [
    {
     "data": {
      "text/plain": [
       "0.8587231077432279"
      ]
     },
     "execution_count": 279,
     "metadata": {},
     "output_type": "execute_result"
    }
   ],
   "source": [
    "accuracy_score(pred_lg,y_test) #Accuracy score of Logistic Regression"
   ]
  },
  {
   "cell_type": "code",
   "execution_count": 280,
   "metadata": {},
   "outputs": [
    {
     "data": {
      "text/plain": [
       "0.8957843393432627"
      ]
     },
     "execution_count": 280,
     "metadata": {},
     "output_type": "execute_result"
    }
   ],
   "source": [
    "accuracy_score(pred_rf,y_test) #Accuracy score of Random Forest"
   ]
  },
  {
   "cell_type": "code",
   "execution_count": 287,
   "metadata": {},
   "outputs": [
    {
     "data": {
      "text/plain": [
       "0.88"
      ]
     },
     "execution_count": 287,
     "metadata": {},
     "output_type": "execute_result"
    }
   ],
   "source": [
    "accuracy_score(y_test,pred) #Accuracy score of SVM"
   ]
  },
  {
   "cell_type": "code",
   "execution_count": 299,
   "metadata": {},
   "outputs": [],
   "source": [
    "acc=[0.8165,0.8539,0.8587,0.8957,0.8800]"
   ]
  },
  {
   "cell_type": "code",
   "execution_count": 315,
   "metadata": {},
   "outputs": [
    {
     "data": {
      "image/png": "[encoded data removed]",
      "text/plain": [
       "<Figure size 720x360 with 1 Axes>"
      ]
     },
     "metadata": {
      "needs_background": "light"
     },
     "output_type": "display_data"
    }
   ],
   "source": [
    "acc=[0.8165,0.8539,0.8587,0.8957,0.8800]\n",
    "models=[\"Naive Bayes\",\"Decision Tree\",\"Logistic regression\",\"Random Forest\",\"Support Vector Machines\"]\n",
    "plt.figure(figsize=(10,5))\n",
    "plt.plot(models,acc,'bo',linestyle='solid',linewidth=2, markersize=10)\n",
    "plt.xlabel(\"Models used -->\")\n",
    "plt.ylabel(\"Accuracy -->\")\n",
    "plt.title(\"MODELS vs ACCURACY Graph\")\n",
    "plt.show()"
   ]
  },
  {
   "cell_type": "markdown",
   "metadata": {},
   "source": [
    "We can see that it looks like Random Forest has the largest estimated accuracy score at about 0.8957 or 90%"
   ]
  },
  {
   "cell_type": "markdown",
   "metadata": {},
   "source": [
    "------------------------------------------------------------------------------------------------------------"
   ]
  },
  {
   "cell_type": "code",
   "execution_count": null,
   "metadata": {},
   "outputs": [],
   "source": []
  }
 ],
 "metadata": {
  "kernelspec": {
   "display_name": "Python 3",
   "language": "python",
   "name": "python3"
  },
  "language_info": {
   "codemirror_mode": {
    "name": "ipython",
    "version": 3
   },
   "file_extension": ".py",
   "mimetype": "text/x-python",
   "name": "python",
   "nbconvert_exporter": "python",
   "pygments_lexer": "ipython3",
   "version": "3.7.6"
  }
 },
 "nbformat": 4,
 "nbformat_minor": 4
}
